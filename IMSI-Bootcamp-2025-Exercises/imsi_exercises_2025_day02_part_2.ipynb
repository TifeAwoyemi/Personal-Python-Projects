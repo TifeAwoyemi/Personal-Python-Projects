{
 "cells": [
  {
   "cell_type": "markdown",
   "metadata": {
    "id": "7kk9TYkdmsYS"
   },
   "source": [
    "# Day 2 - Part 2 Exercises"
   ]
  },
  {
   "cell_type": "markdown",
   "metadata": {},
   "source": [
    "Please name the file:\n",
    "    \n",
    "```\n",
    "day-02-part-2-{PartnerLastName1}-{PartnerLastName2}\n",
    "```"
   ]
  },
  {
   "cell_type": "markdown",
   "metadata": {
    "id": "Z7WdwmzMkcdO"
   },
   "source": [
    "# Exercise 1: The Clone Wars: [Bad Batch](https://starwars.fandom.com/wiki/The_Bad_Batch_(episode))\n",
    "\n",
    "One of the Republic's cloning facility has run into a production problem that started with Batch 99. As a result, more care has been taken with quality control (QC) to ensure the frequency of bad batches declines. The QC team has recorded the number of defective items found in each batch over the past week. They've supplied the information in a _list_.  \n",
    "\n",
    "Write a function that calculates the percentage of batches that exceeded the acceptable defect threshold.\n",
    "\n",
    "- **Arguments:**\n",
    "  - `defects_per_batch:` A _list_ of integers representing defects found in each batch\n",
    "  - `threshold:` An integer representing the maximum acceptable number of defects\n",
    "- **Return:**\n",
    "  - A `float` representing the percentage of batches exceeding the threshold\n",
    "\n",
    "For example, if you have batches with defects `[2, 7, 1, 9, 3]` and threshold `5`:\n",
    "\n",
    "- Batch 1: 2 defects ≤ 5 → acceptable\n",
    "- Batch 2: 7 defects > 5 → exceeds threshold\n",
    "- Batch 3: 1 defect ≤ 5 → acceptable\n",
    "- Batch 4: 9 defects > 5 → exceeds threshold\n",
    "- Batch 5: 3 defects ≤ 5 → acceptable\n",
    "\n",
    "**Result:** 2 out of 5 batches exceed threshold = 2/5 = 0.4 = 40.0%\n"
   ]
  },
  {
   "cell_type": "code",
   "execution_count": 41,
   "metadata": {
    "id": "cSGgzPwIkjdw"
   },
   "outputs": [
    {
     "name": "stdout",
     "output_type": "stream",
     "text": [
      "Batch 1: 2 defects <= 5 → acceptable\n",
      "Batch 2: 7 defects > 5 → exceeds threshold\n",
      "Batch 3: 1 defects <= 5 → acceptable\n",
      "Batch 4: 9 defects > 5 → exceeds threshold\n",
      "Batch 5: 3 defects <= 5 → acceptable\n",
      "2 out of 5 batches exceed threshold = 2/5 = 0.40\n",
      "Failure rate: 60.0%\n"
     ]
    }
   ],
   "source": [
    "def calculate_batch_failure_rate(defects_per_batch, threshold):\n",
    "    # Your code here\n",
    "    total_batch_exceeded_threshold = 0\n",
    "    for defects in defects_per_batch:\n",
    "        ind = defects_per_batch.index(defects)\n",
    "        if defects <= 5:\n",
    "            print(f\"Batch {ind + 1}: {defects} defects <= {threshold} \\u2192 acceptable\")\n",
    "        else:\n",
    "            total_batch_exceeded_threshold += 1\n",
    "            print(f\"Batch {ind + 1}: {defects} defects > {threshold} \\u2192 exceeds threshold\")\n",
    "    total_batches = len(defects_per_batch)\n",
    "    \n",
    "    from fractions import Fraction\n",
    "    result_ratio = total_batch_exceeded_threshold/total_batches\n",
    "    print(f\"{total_batch_exceeded_threshold} out of {total_batches} batches exceed threshold = {Fraction(total_batch_exceeded_threshold, total_batches)} = {(result_ratio):.2f}\")\n",
    "    \n",
    "    result = round((total_batches - total_batch_exceeded_threshold) / total_batches * 100, 2)\n",
    "    \n",
    "    return result\n",
    "\n",
    "## Test your function\n",
    "defects_per_batch = [2, 7, 1, 9, 3]\n",
    "threshold = 5\n",
    "result = calculate_batch_failure_rate(defects_per_batch, threshold)\n",
    "print(f\"Failure rate: {result}%\")"
   ]
  },
  {
   "cell_type": "markdown",
   "metadata": {
    "id": "7pPhbUmmj3wo"
   },
   "source": [
    "# Exercise 2: Publishing Hijinks\n",
    "\n",
    "As part of the preparation for publishing a paper, one reviewer noted that proper units should be added to all measurement values. The lab technician recorded all the measurements but forgot to include units. You need to add the appropriate unit suffix to each valid measurement.\n",
    "\n",
    "Create a function that adds units to measurement values while filtering out invalid entries.\n",
    "\n",
    "- **Arguments:**\n",
    "  - `measurements`: List of strings representing raw measurement values\n",
    "  - `unit`: String representing the unit to append (e.g., 'mg', 'ml', 'cm')\n",
    "- **Return:** List of strings with valid measurements formatted with units\n",
    "\n",
    "For example, consider the following list of measurements `['23.5', '45.2', '', '67.8', ' ']` and unit `'mg'`:\n",
    "\n",
    "- `'23.5'` → valid measurement → `'23.5 mg'`\n",
    "- `'45.2'` → valid measurement → `'45.2 mg'`  \n",
    "- `''` → empty string → skip\n",
    "- `'67.8'` → valid measurement → `'67.8 mg'`\n",
    "- `' '` → whitespace only → skip\n",
    "\n",
    "We would expect the output to be: `['23.5 mg', '45.2 mg', '67.8 mg']`\n"
   ]
  },
  {
   "cell_type": "code",
   "execution_count": 10,
   "metadata": {
    "id": "sbxpCgVpkRxb"
   },
   "outputs": [
    {
     "name": "stdout",
     "output_type": "stream",
     "text": [
      "Formatted measurements: ['12.3 mg', '45.7 mg', '23.1 mg', '67.9 mg', '34.2 mg']\n"
     ]
    }
   ],
   "source": [
    "def format_measurements_with_units(measurements, unit):\n",
    "    # Your code here\n",
    "    new_list = []\n",
    "    if any(not isinstance(i, str) for i in measurements):\n",
    "        result = \"The list should contain only strings. Please adjust your list.\"\n",
    "    else:\n",
    "        for i in measurements:\n",
    "            # Hint: Use .strip() to remove whitespace and check if result is non-empty\n",
    "            item = i\n",
    "            new_item = item.strip()\n",
    "            if new_item == \"\":\n",
    "                continue\n",
    "            new_mnt = new_item + ' ' + unit\n",
    "            new_list.append(new_mnt)\n",
    "        result = new_list\n",
    "\n",
    "    return result\n",
    "\n",
    "# Test your function\n",
    "raw_measurements = ['12.3', '45.7', '', '23.1', '   ', '67.9', ' 34.2 ', '']\n",
    "unit = 'mg'\n",
    "formatted_data = format_measurements_with_units(raw_measurements, unit)\n",
    "print(f\"Formatted measurements: {formatted_data}\")\n",
    "\n",
    "# Should output: ['12.3 mg', '45.7 mg', '23.1 mg', '67.9 mg', '34.2 mg']"
   ]
  },
  {
   "cell_type": "markdown",
   "metadata": {},
   "source": [
    "#### Updated version"
   ]
  },
  {
   "cell_type": "code",
   "execution_count": 35,
   "metadata": {},
   "outputs": [
    {
     "name": "stdout",
     "output_type": "stream",
     "text": [
      "Formatted measurements: ['12.3 mg', '45.7 mg', '23.1 mg', '67.9 mg', '34.2 mg']\n"
     ]
    }
   ],
   "source": [
    "def format_measurements_with_units(measurements, unit):\n",
    "    # Your code here\n",
    "    new_measurements = []\n",
    "    if any(not isinstance(i, str) for i in measurements):\n",
    "        result = \"The list should contain only strings. Please adjust your list.\"\n",
    "    else:\n",
    "        # Hint: Use .strip() to remove whitespace and check if result is non-empty\n",
    "        measurements = [item.strip() for item in measurements]\n",
    "        for item in measurements:\n",
    "            if item == \"\":\n",
    "                continue\n",
    "            new_item = item + ' ' + unit\n",
    "            new_measurements.append(new_item)\n",
    "        result = new_measurements\n",
    "\n",
    "    return result\n",
    "\n",
    "# Test your function\n",
    "raw_measurements = ['12.3', '45.7', '', '23.1', '   ', '67.9', ' 34.2 ', '']\n",
    "unit = 'mg'\n",
    "formatted_data = format_measurements_with_units(raw_measurements, unit)\n",
    "print(f\"Formatted measurements: {formatted_data}\")\n",
    "\n",
    "# Should output: ['12.3 mg', '45.7 mg', '23.1 mg', '67.9 mg', '34.2 mg']"
   ]
  },
  {
   "cell_type": "markdown",
   "metadata": {
    "id": "FjZ1LPLliKa9"
   },
   "source": [
    "# Exercise 3: Fizz, Buzz, or FizzBuzz\n",
    "\n",
    "The idea behind this exercise is to introduce you to a common interview problem\n",
    "posed to programmers. The question was devised to filter out programming\n",
    "candidates who have difficulty with foundamental computing theory.\n",
    "As a testament to how popular this question is, there are _many_ solutions\n",
    "available on the web. In fact, one solution to this problem was even done with by [training a dense neural network with TensorFlow](https://joelgrus.com/2016/05/23/fizz-buzz-in-tensorflow/). Having said this, you should _avoid_ looking at them and\n",
    "instead work on the problem yourself.\n",
    "\n",
    "**Job Prompt:**\n",
    "\n",
    "> Write a program that saves the numbers from 1 to n. For multiples of\n",
    "> three save \"Fizz\" instead of the number and for the multiples of four save\n",
    "> \"Buzz\". For numbers which are multiples of both three and four save\n",
    "> \"FizzBuzz\". Otherwise, just save the number.\n",
    "\n",
    "Recall that modulus operator (`%`) can be used to check if\n",
    "`x` is divisible by `y` under the condition that $$0 \\equiv x \\;(\\bmod\\; y)$$\n",
    "\n",
    "Some examples:"
   ]
  },
  {
   "cell_type": "code",
   "execution_count": null,
   "metadata": {
    "id": "LYoS9_makXZG"
   },
   "outputs": [],
   "source": [
    "print(5 % 10)       # Perform modular arithmetic\n",
    "print(5 % 10 == 0)  # Check if divisible\n",
    "\n",
    "print(20 % 10)      # Perform modular arithmetic\n",
    "print(20 % 10 == 0) # Check if divisible"
   ]
  },
  {
   "cell_type": "markdown",
   "metadata": {
    "id": "A0n3RjTmiykK"
   },
   "source": [
    "## a : Planning Cases\n",
    "\n",
    "List each of the different cases and note if there is\n",
    "any overlap between the logical conditions.\n",
    "\n",
    "_Hint_: There are _four_ cases (including the `else`). The order\n",
    "of the cases is important!"
   ]
  },
  {
   "cell_type": "markdown",
   "metadata": {
    "id": "kuTqdqnNkP60"
   },
   "source": [
    "- Case 1: if x % 3 == 0 & x % 4 == 0, FizzBuzz \n",
    "- Case 2: if x % 4 == 0, Buzz\n",
    "- Case 3: if x % 3 == 0, Fizz\n",
    "- Case 4: x"
   ]
  },
  {
   "cell_type": "markdown",
   "metadata": {
    "id": "Q69neu6Ui8jS"
   },
   "source": [
    "## b: Implementing Cases\n",
    "\n",
    "Translate these cases into an `if-elif-else` structure within the `fizzbuzz(n)` function.\n",
    "\n",
    "Implementation Guidelines:\n",
    "\n",
    "- **Arguments:**\n",
    "    - `n`: The amount of numbers to check.\n",
    "- **Return:**\n",
    "    - A list containing elements:\n",
    "      - A number\n",
    "      - \"Fizz\" for multiples of 3\n",
    "      - \"Buzz\" for multiples of 4\n",
    "      - \"FizzBuzz\" for multiples of 3 and 4\n",
    "\n",
    "_Hint:_ Empty lists in Python can be created using `my_list = [None]*num_of_elements`."
   ]
  },
  {
   "cell_type": "code",
   "execution_count": 45,
   "metadata": {
    "id": "UZIdZUEYAzh3"
   },
   "outputs": [
    {
     "data": {
      "text/plain": [
       "[1,\n",
       " 2,\n",
       " 'Fizz',\n",
       " 'Buzz',\n",
       " 5,\n",
       " 'Fizz',\n",
       " 7,\n",
       " 'Buzz',\n",
       " 'Fizz',\n",
       " 10,\n",
       " 11,\n",
       " 'FizzBuzz',\n",
       " 13,\n",
       " 14,\n",
       " 'Fizz',\n",
       " 'Buzz',\n",
       " 17,\n",
       " 'Fizz',\n",
       " 19,\n",
       " 'Buzz']"
      ]
     },
     "execution_count": 45,
     "metadata": {},
     "output_type": "execute_result"
    }
   ],
   "source": [
    "# code here\n",
    "def fizzbuzz(n):\n",
    "    saves = []\n",
    "    for x in range(1, n + 1):\n",
    "        if x % 3 == 0 and x % 4 == 0:\n",
    "            saves.append('FizzBuzz')\n",
    "        elif x % 4 == 0:\n",
    "            saves.append('Buzz')\n",
    "        elif x % 3 == 0:\n",
    "            saves.append('Fizz')\n",
    "        else:\n",
    "            saves.append(x)\n",
    "  \n",
    "    return saves\n",
    "\n",
    "fizzbuzz(20)"
   ]
  },
  {
   "cell_type": "markdown",
   "metadata": {
    "id": "dGg9eOla1krO"
   },
   "source": [
    "# Exercise 4: Smaller problems\n",
    "\n",
    "Consider the following sequence of numbers that make up a geometric series:\n",
    "\n",
    "$$\\sum_{r = 0}^{\\infty} \\frac{1}{a^r} = 1 + \\frac{1}{a} + \\frac{1}{a^2} + \\frac{1}{a^3} + \\frac{1}{a^4} + \\cdots + \\frac{1}{a^r} $$\n",
    "\n",
    "Write a recursive function to calculate the sum of a geometric series"
   ]
  },
  {
   "cell_type": "code",
   "execution_count": 57,
   "metadata": {
    "id": "z93rhPRV11DI"
   },
   "outputs": [
    {
     "name": "stdout",
     "output_type": "stream",
     "text": [
      "1.9375\n"
     ]
    }
   ],
   "source": [
    "def geometric_series_sum(a, r, n):\n",
    "    \"\"\"\n",
    "    Calculate sum of geometric series recursively\n",
    "    a: first term, r: common ratio, n: number of terms\n",
    "    \"\"\"\n",
    "    # Your code here\n",
    "    # Hint: Sum(n) = a + r * Sum(n-1) with a different first term\n",
    "    if n == 1:\n",
    "        return a\n",
    "    return a + geometric_series_sum(a * r, r, n - 1)\n",
    "\n",
    "# Test: Sum of 1 + 0.5 + 0.25 + 0.125 + 0.0625 (5 terms)\n",
    "print(geometric_series_sum(1, 0.5, 5))  # Should be ~1.9375"
   ]
  },
  {
   "cell_type": "markdown",
   "metadata": {
    "id": "PWV-Wk7Yk6HA"
   },
   "source": [
    "# Exercise 5: Closing the gap in a...\n",
    "\n",
    "Consider the prior geometric series given in **Exercise 4**.\n",
    "\n",
    "Determine the number of iterations such that including an additional term increases the sum by less than an epsilon, $\\varepsilon$ set to the default value of $1\\times 10^{-6}$, e.g. `1e-6`.\n",
    "\n",
    "In particular, we're interested in understanding when the difference between $\\frac{1}{a^i}$ and $\\frac{1}{a^{i+1}}$ is negligible on the overall sequence summation. That is, we wish to stop adding terms if:\n",
    "\n",
    "$$\\left| \\frac{1}{a^{i+1}} - \\frac{1}{a^i} \\right| < \\varepsilon$$\n",
    "\n",
    "_Hint:_ The `abs()` in Python will help in comparing successive terms within an iteration structure.\n"
   ]
  },
  {
   "cell_type": "code",
   "execution_count": 3,
   "metadata": {
    "id": "ik5w0QC7lCTg"
   },
   "outputs": [
    {
     "data": {
      "text/plain": [
       "20"
      ]
     },
     "execution_count": 3,
     "metadata": {},
     "output_type": "execute_result"
    }
   ],
   "source": [
    "def epsilon_small(a, eps = 1e-6):\n",
    "    i = 0\n",
    "    diff = 1\n",
    "    while diff > eps:\n",
    "        if a == 1:\n",
    "            return 1\n",
    "        diff = abs((1/(a ** (i + 1))) - (1/(a ** (i))))\n",
    "        i += 1\n",
    "    return i\n",
    "\n",
    "epsilon_small(2)"
   ]
  },
  {
   "cell_type": "markdown",
   "metadata": {
    "id": "NuBbeunWXeLc"
   },
   "source": [
    "# Exercise 6: Splitting the Bill\n",
    "\n",
    "Develop a function that displays an itemized bill and provides the total a given person must pay.\n",
    "\n",
    "Consider the following bill:\n",
    "\n",
    "- James\n",
    "  - Cold Brew: \\$4.63\n",
    "  - [Beef Bulgogi](https://en.wikipedia.org/wiki/Bulgogi): \\$12.32\n",
    "- Brianna\n",
    "  - Tea: \\$2.55\n",
    "  - Muffin: \\$1.88\n",
    "  - [Poke bowl](https://en.wikipedia.org/wiki/Poke_(Hawaiian_dish)): \\$10.69\n",
    "- Cathy\n",
    "  - [Margarita](https://en.wikipedia.org/wiki/Margarita): \\$8.50\n",
    "\n",
    "Implementation Guidelines:\n",
    "\n",
    "- **Arguments:**\n",
    "    - `x`: data structure holding the above example.\n",
    "    - `first_name`: Obtain the total a given person owes.\n",
    "- **Side-effect:**\n",
    "    - Print an itemized version of the bill by person.\n",
    "- **Return:**\n",
    "    - The total value of all items ordered by requested person.\n",
    "\n",
    "Example of output:\n",
    "\n",
    "```python\n",
    "my_portion = bill_split(x, \"James\")\n",
    "# Itemized Bill ----\n",
    "# James pays $16.95\n",
    "# * 4.63 for Cold Brew\n",
    "# * 12.32 for Beef Bulgogi\n",
    "# Brianna pays $15.12\n",
    "# * 2.55 for Tea\n",
    "# * 1.88 for Muffin\n",
    "# * 10.69 for Poke Bowl\n",
    "# Cathy pays $8.50\n",
    "# * 8.50 for Margarita\n",
    "my_portion\n",
    "# [1] 16.95\n",
    "```\n",
    "\n"
   ]
  },
  {
   "cell_type": "code",
   "execution_count": 7,
   "metadata": {
    "id": "VZFy-Xn_CBIZ"
   },
   "outputs": [
    {
     "name": "stdout",
     "output_type": "stream",
     "text": [
      "Itemized Bill ----\n",
      "James pays $16.95\n",
      "* 4.63 for Cold Brew\n",
      "* 12.32 for Beef Bulgogi\n",
      "Brianna pays $15.12\n",
      "* 2.55 for Tea\n",
      "* 1.88 for Muffin\n",
      "* 10.69 for Poke Bowl\n",
      "Cathy pays $8.50\n",
      "* 8.50 for Margarita\n",
      "\n",
      "my_portion\n"
     ]
    },
    {
     "data": {
      "text/plain": [
       "16.95"
      ]
     },
     "execution_count": 7,
     "metadata": {},
     "output_type": "execute_result"
    }
   ],
   "source": [
    "# Create a nested list of lists.\n",
    "# Another option would be a list of dictionaries.\n",
    "bill = [\n",
    "  ['James',['Cold Brew','Beef Bulgogi'],[4.63, 12.32]],\n",
    "  ['Brianna',['Tea','Muffin','Poke Bowl'],[2.55,1.88,10.69]],\n",
    "  ['Cathy', ['Margarita'], [8.50]]\n",
    "]\n",
    "\n",
    "# Use ':.2f' to ensure numbers are printed to 2 decimals, so 8.5 -> 8.50\n",
    "def bill_split(x, first_name):\n",
    "    print('Itemized Bill ----')\n",
    "    # first_names= [] \n",
    "    for i in range(len(x)):\n",
    "        total_ind_bill = f\"{sum(x[i][2]):.2f}\"\n",
    "        Bill_statement = f\"{x[i][0]} pays ${total_ind_bill}\"\n",
    "        print(Bill_statement)\n",
    "        for ii in range(len(x[i][1])):\n",
    "            for jj in range(len(x[i][2])):\n",
    "                if ii == jj:\n",
    "                    Ind_bill_statement = f\"* {x[i][2][jj]:.2f} for {x[i][1][ii]}\"\n",
    "            print(Ind_bill_statement)\n",
    "        if x[i][0] == first_name:\n",
    "            my_portion = sum(x[i][2]) \n",
    "    \n",
    "    print('\\nmy_portion')\n",
    "        \n",
    "    return my_portion\n",
    "\n",
    "my_portion = bill_split(bill, 'James')\n",
    "\n",
    "my_portion"
   ]
  },
  {
   "cell_type": "markdown",
   "metadata": {},
   "source": [
    "#### Updated version (List)"
   ]
  },
  {
   "cell_type": "code",
   "execution_count": 32,
   "metadata": {},
   "outputs": [
    {
     "name": "stdout",
     "output_type": "stream",
     "text": [
      "Itemized Bill ----\n",
      "James pays $16.95\n",
      "* 4.63 for Cold Brew\n",
      "* 12.32 for Beef Bulgogi\n",
      "Brianna pays $15.12\n",
      "* 2.55 for Tea\n",
      "* 1.88 for Muffin\n",
      "* 10.69 for Poke Bowl\n",
      "Cathy pays $8.5\n",
      "* 8.50 for Margarita\n",
      "\n",
      "my_portion\n"
     ]
    },
    {
     "data": {
      "text/plain": [
       "16.95"
      ]
     },
     "execution_count": 32,
     "metadata": {},
     "output_type": "execute_result"
    }
   ],
   "source": [
    "# Create a nested list of lists.\n",
    "# Another option would be a list of dictionaries.\n",
    "bill = [\n",
    "  ['James',['Cold Brew','Beef Bulgogi'],[4.63, 12.32]],\n",
    "  ['Brianna',['Tea','Muffin','Poke Bowl'],[2.55,1.88,10.69]],\n",
    "  ['Cathy', ['Margarita'], [8.50]]\n",
    "]\n",
    "\n",
    "# Use ':.2f' to ensure numbers are printed to 2 decimals, so 8.5 -> 8.50\n",
    "def bill_split(x, first_name):\n",
    "    \n",
    "    print('Itemized Bill ----')\n",
    "    \n",
    "    for i in range(len(x)):\n",
    "        total_ind_bill = round(sum(x[i][2]), 2)\n",
    "        \n",
    "        if x[i][0] == first_name:\n",
    "            my_portion = total_ind_bill \n",
    "        Bill_statement = f\"{x[i][0]} pays ${total_ind_bill}\"\n",
    "        \n",
    "        print(Bill_statement)\n",
    "        \n",
    "        for j in range(len(x[i][1])):\n",
    "            Ind_bill_statement = f\"* {x[i][2][j]:.2f} for {x[i][1][j]}\"\n",
    "            \n",
    "            print(Ind_bill_statement)\n",
    "    \n",
    "    print('\\nmy_portion')\n",
    "        \n",
    "    return my_portion\n",
    "\n",
    "bill_split(bill, 'James')"
   ]
  },
  {
   "cell_type": "markdown",
   "metadata": {},
   "source": [
    "#### Updated version (Dictionary)"
   ]
  },
  {
   "cell_type": "code",
   "execution_count": 31,
   "metadata": {},
   "outputs": [
    {
     "name": "stdout",
     "output_type": "stream",
     "text": [
      "Itemized Bill ----\n",
      "James pays $16.95\n",
      "* 4.63 for Cold Brew\n",
      "* 12.32 for Beef Bulgogi\n",
      "Brianna pays $15.12\n",
      "* 2.55 for Tea\n",
      "* 1.88 for Muffin\n",
      "* 10.69 for Poke Bowl\n",
      "Cathy pays $8.5\n",
      "* 8.50 for Margarita\n",
      "\n",
      "my_portion\n"
     ]
    },
    {
     "data": {
      "text/plain": [
       "16.95"
      ]
     },
     "execution_count": 31,
     "metadata": {},
     "output_type": "execute_result"
    }
   ],
   "source": [
    "bill = {\n",
    "    'Name': ['James', 'Brianna', 'Cathy'],\n",
    "    'Food': [['Cold Brew','Beef Bulgogi'], ['Tea','Muffin','Poke Bowl'], ['Margarita']],\n",
    "    'Price': [[4.63, 12.32], [2.55,1.88,10.69], [8.50]]\n",
    "}\n",
    "\n",
    "# Use ':.2f' to ensure numbers are printed to 2 decimals, so 8.5 -> 8.50\n",
    "def bill_split(x, first_name):\n",
    "    \n",
    "    print('Itemized Bill ----')\n",
    "    \n",
    "    for i in range(len(x)):\n",
    "        total_ind_bill = round(sum(x['Price'][i]), 2)\n",
    "        \n",
    "        if x['Name'][i] == first_name:\n",
    "            my_portion = total_ind_bill \n",
    "        Bill_statement = f\"{x['Name'][i]} pays ${total_ind_bill}\"\n",
    "        \n",
    "        print(Bill_statement)\n",
    "        \n",
    "        for j in range(len(x['Food'][i])):\n",
    "            Ind_bill_statement = f\"* {x['Price'][i][j]:.2f} for {x['Food'][i][j]}\"\n",
    "            \n",
    "            print(Ind_bill_statement)\n",
    "    \n",
    "    print('\\nmy_portion')\n",
    "        \n",
    "    return my_portion\n",
    "\n",
    "bill_split(bill, 'James')"
   ]
  },
  {
   "cell_type": "markdown",
   "metadata": {},
   "source": [
    "#### ChatGpt Optimized"
   ]
  },
  {
   "cell_type": "code",
   "execution_count": 34,
   "metadata": {},
   "outputs": [
    {
     "name": "stdout",
     "output_type": "stream",
     "text": [
      "Itemized Bill ----\n",
      "James pays $16.95\n",
      "* $4.63 for Cold Brew\n",
      "* $12.32 for Beef Bulgogi\n",
      "Brianna pays $15.12\n",
      "* $2.55 for Tea\n",
      "* $1.88 for Muffin\n",
      "* $10.69 for Poke Bowl\n",
      "Cathy pays $8.50\n",
      "* $8.50 for Margarita\n",
      "\n",
      "Your portion, James, is: $16.95\n"
     ]
    }
   ],
   "source": [
    "bill = {\n",
    "    'Name': ['James', 'Brianna', 'Cathy'],\n",
    "    'Food': [['Cold Brew', 'Beef Bulgogi'], ['Tea', 'Muffin', 'Poke Bowl'], ['Margarita']],\n",
    "    'Price': [[4.63, 12.32], [2.55, 1.88, 10.69], [8.50]]\n",
    "}\n",
    "\n",
    "def bill_split(data, first_name):\n",
    "    print('Itemized Bill ----')\n",
    "    my_portion = 0.0\n",
    "\n",
    "    for name, foods, prices in zip(data['Name'], data['Food'], data['Price']):\n",
    "        total = round(sum(prices), 2)\n",
    "        if name == first_name:\n",
    "            my_portion = total\n",
    "        \n",
    "        print(f\"{name} pays ${total:.2f}\")\n",
    "        for food, price in zip(foods, prices):\n",
    "            print(f\"* ${price:.2f} for {food}\")\n",
    "    \n",
    "    my_portion = print(f\"\\nYour portion, {first_name}, is: ${my_portion:.2f}\")\n",
    "    return my_portion\n",
    "\n",
    "# Example use\n",
    "bill_split(bill, 'James')\n"
   ]
  },
  {
   "cell_type": "code",
   "execution_count": null,
   "metadata": {},
   "outputs": [],
   "source": []
  }
 ],
 "metadata": {
  "colab": {
   "provenance": [],
   "toc_visible": true
  },
  "kernelspec": {
   "display_name": "Python 3 (ipykernel)",
   "language": "python",
   "name": "python3"
  },
  "language_info": {
   "codemirror_mode": {
    "name": "ipython",
    "version": 3
   },
   "file_extension": ".py",
   "mimetype": "text/x-python",
   "name": "python",
   "nbconvert_exporter": "python",
   "pygments_lexer": "ipython3",
   "version": "3.12.10"
  },
  "toc": {
   "base_numbering": 1,
   "nav_menu": {},
   "number_sections": true,
   "sideBar": true,
   "skip_h1_title": false,
   "title_cell": "Table of Contents",
   "title_sidebar": "Contents",
   "toc_cell": false,
   "toc_position": {},
   "toc_section_display": true,
   "toc_window_display": false
  },
  "varInspector": {
   "cols": {
    "lenName": 16,
    "lenType": 16,
    "lenVar": 40
   },
   "kernels_config": {
    "python": {
     "delete_cmd_postfix": "",
     "delete_cmd_prefix": "del ",
     "library": "var_list.py",
     "varRefreshCmd": "print(var_dic_list())"
    },
    "r": {
     "delete_cmd_postfix": ") ",
     "delete_cmd_prefix": "rm(",
     "library": "var_list.r",
     "varRefreshCmd": "cat(var_dic_list()) "
    }
   },
   "types_to_exclude": [
    "module",
    "function",
    "builtin_function_or_method",
    "instance",
    "_Feature"
   ],
   "window_display": false
  }
 },
 "nbformat": 4,
 "nbformat_minor": 4
}
