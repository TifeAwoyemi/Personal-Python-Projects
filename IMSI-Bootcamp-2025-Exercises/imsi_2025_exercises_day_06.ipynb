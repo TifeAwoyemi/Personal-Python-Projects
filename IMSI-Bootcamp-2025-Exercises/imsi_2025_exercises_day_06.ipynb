{
 "cells": [
  {
   "cell_type": "markdown",
   "metadata": {
    "id": "9ReNcp7plngg"
   },
   "source": [
    "# Exercise 1: Modeling Palmer Penguins\n",
    "\n",
    "\n",
    "\n"
   ]
  },
  {
   "cell_type": "markdown",
   "metadata": {
    "id": "mJZuf0_antBc"
   },
   "source": [
    "In this exercise, we return to the Palmer Penguin data set."
   ]
  },
  {
   "cell_type": "code",
   "execution_count": 3,
   "metadata": {
    "colab": {
     "base_uri": "https://localhost:8080/",
     "height": 206
    },
    "id": "_NsKaT4FnwPC",
    "outputId": "58c15d15-8649-41b3-b9e0-33af08cb6021"
   },
   "outputs": [
    {
     "data": {
      "text/html": [
       "<div>\n",
       "<style scoped>\n",
       "    .dataframe tbody tr th:only-of-type {\n",
       "        vertical-align: middle;\n",
       "    }\n",
       "\n",
       "    .dataframe tbody tr th {\n",
       "        vertical-align: top;\n",
       "    }\n",
       "\n",
       "    .dataframe thead th {\n",
       "        text-align: right;\n",
       "    }\n",
       "</style>\n",
       "<table border=\"1\" class=\"dataframe\">\n",
       "  <thead>\n",
       "    <tr style=\"text-align: right;\">\n",
       "      <th></th>\n",
       "      <th>species</th>\n",
       "      <th>island</th>\n",
       "      <th>bill_length_mm</th>\n",
       "      <th>bill_depth_mm</th>\n",
       "      <th>flipper_length_mm</th>\n",
       "      <th>body_mass_g</th>\n",
       "      <th>sex</th>\n",
       "    </tr>\n",
       "  </thead>\n",
       "  <tbody>\n",
       "    <tr>\n",
       "      <th>0</th>\n",
       "      <td>Adelie</td>\n",
       "      <td>Torgersen</td>\n",
       "      <td>39.1</td>\n",
       "      <td>18.7</td>\n",
       "      <td>181.0</td>\n",
       "      <td>3750.0</td>\n",
       "      <td>Male</td>\n",
       "    </tr>\n",
       "    <tr>\n",
       "      <th>1</th>\n",
       "      <td>Adelie</td>\n",
       "      <td>Torgersen</td>\n",
       "      <td>39.5</td>\n",
       "      <td>17.4</td>\n",
       "      <td>186.0</td>\n",
       "      <td>3800.0</td>\n",
       "      <td>Female</td>\n",
       "    </tr>\n",
       "    <tr>\n",
       "      <th>2</th>\n",
       "      <td>Adelie</td>\n",
       "      <td>Torgersen</td>\n",
       "      <td>40.3</td>\n",
       "      <td>18.0</td>\n",
       "      <td>195.0</td>\n",
       "      <td>3250.0</td>\n",
       "      <td>Female</td>\n",
       "    </tr>\n",
       "    <tr>\n",
       "      <th>3</th>\n",
       "      <td>Adelie</td>\n",
       "      <td>Torgersen</td>\n",
       "      <td>NaN</td>\n",
       "      <td>NaN</td>\n",
       "      <td>NaN</td>\n",
       "      <td>NaN</td>\n",
       "      <td>NaN</td>\n",
       "    </tr>\n",
       "    <tr>\n",
       "      <th>4</th>\n",
       "      <td>Adelie</td>\n",
       "      <td>Torgersen</td>\n",
       "      <td>36.7</td>\n",
       "      <td>19.3</td>\n",
       "      <td>193.0</td>\n",
       "      <td>3450.0</td>\n",
       "      <td>Female</td>\n",
       "    </tr>\n",
       "  </tbody>\n",
       "</table>\n",
       "</div>"
      ],
      "text/plain": [
       "  species     island  bill_length_mm  bill_depth_mm  flipper_length_mm  \\\n",
       "0  Adelie  Torgersen            39.1           18.7              181.0   \n",
       "1  Adelie  Torgersen            39.5           17.4              186.0   \n",
       "2  Adelie  Torgersen            40.3           18.0              195.0   \n",
       "3  Adelie  Torgersen             NaN            NaN                NaN   \n",
       "4  Adelie  Torgersen            36.7           19.3              193.0   \n",
       "\n",
       "   body_mass_g     sex  \n",
       "0       3750.0    Male  \n",
       "1       3800.0  Female  \n",
       "2       3250.0  Female  \n",
       "3          NaN     NaN  \n",
       "4       3450.0  Female  "
      ]
     },
     "execution_count": 3,
     "metadata": {},
     "output_type": "execute_result"
    }
   ],
   "source": [
    "import seaborn as sns\n",
    "penguins = sns.load_dataset(\"penguins\")\n",
    "\n",
    "penguins.head()"
   ]
  },
  {
   "cell_type": "markdown",
   "metadata": {
    "id": "NvKda71Yl5aT"
   },
   "source": [
    "## a: Fit a Simple Linear Regression\n",
    "\n",
    "Fit a simple linear regression between `body_mass_g` (y) and `flipper_length_mm` (x)  and look at the model summary:\n"
   ]
  },
  {
   "cell_type": "code",
   "execution_count": 4,
   "metadata": {
    "id": "b81O85B6l1qj"
   },
   "outputs": [],
   "source": [
    "## code here\n",
    "import pandas as pd\n",
    "import numpy as np\n",
    "from sklearn import linear_model\n",
    "from sklearn.model_selection import train_test_split\n",
    "from sklearn.linear_model import LinearRegression\n",
    "from IPython.display import display, Markdown\n"
   ]
  },
  {
   "cell_type": "code",
   "execution_count": 5,
   "metadata": {},
   "outputs": [
    {
     "data": {
      "text/plain": [
       "species  island  bill_length_mm  bill_depth_mm  flipper_length_mm  body_mass_g  sex  \n",
       "False    False   False           False          False              False        False    333\n",
       "                                                                                True       9\n",
       "                 True            True           True               True         True       2\n",
       "Name: count, dtype: int64"
      ]
     },
     "execution_count": 5,
     "metadata": {},
     "output_type": "execute_result"
    }
   ],
   "source": [
    "penguins.isnull().value_counts()"
   ]
  },
  {
   "cell_type": "code",
   "execution_count": 6,
   "metadata": {},
   "outputs": [
    {
     "data": {
      "text/plain": [
       "species  island  bill_length_mm  bill_depth_mm  flipper_length_mm  body_mass_g  sex  \n",
       "False    False   False           False          False              False        False    333\n",
       "                                                                                True       9\n",
       "                 True            True           False              False        True       2\n",
       "Name: count, dtype: int64"
      ]
     },
     "execution_count": 6,
     "metadata": {},
     "output_type": "execute_result"
    }
   ],
   "source": [
    "## Data prepocessing: Replace NaNs with median of columns\n",
    "\n",
    "penguins = penguins.fillna({'flipper_length_mm': penguins['flipper_length_mm'].median(), \\\n",
    "                           'body_mass_g': penguins['body_mass_g'].median()})\n",
    "\n",
    "penguins.isnull().value_counts()"
   ]
  },
  {
   "cell_type": "code",
   "execution_count": 7,
   "metadata": {},
   "outputs": [
    {
     "name": "stdout",
     "output_type": "stream",
     "text": [
      "Number of samples in testing: 86 (~25.0%) of the original set\n",
      "Number of samples in training: 258 (~75.0%) of the original set\n"
     ]
    },
    {
     "data": {
      "text/markdown": [
       "\n",
       "\n",
       "Estimated values for $\\boldsymbol{\\beta}$\n",
       "- $\\hat\\beta_0$ = -5951.9974\n",
       "- $\\hat\\beta_1$ = 50.4952\n"
      ],
      "text/plain": [
       "<IPython.core.display.Markdown object>"
      ]
     },
     "metadata": {},
     "output_type": "display_data"
    }
   ],
   "source": [
    "X_train, X_test, y_train, y_test = train_test_split(penguins[[\"flipper_length_mm\"]], penguins[[\"body_mass_g\"]], random_state = 430)\n",
    "\n",
    "print(f\"Number of samples in testing: {X_test.shape[0]} (~\"\n",
    "      f\"{X_test.shape[0] / penguins.shape[0] * 100:.1f}%) of the\"\n",
    "      f\" original set\")\n",
    "print(f\"Number of samples in training: {X_train.shape[0]} (~\"\n",
    "      f\"{X_train.shape[0] / penguins.shape[0] * 100:.1f}%) of the\"\n",
    "      f\" original set\")\n",
    "\n",
    "# Create a linear regression model object\n",
    "model = LinearRegression()\n",
    "\n",
    "# Train the model using the training sets\n",
    "model.fit(X_train, y_train)\n",
    "\n",
    "# Retrieve parameters (p >= 1)\n",
    "hat_beta_1_reg = model.coef_\n",
    "\n",
    "# Retrieve the intercept term (p = 0)\n",
    "hat_beta_0_reg = model.intercept_\n",
    "\n",
    "# Display guesses in a nicely formatted manner\n",
    "display(Markdown(rf\"\"\"\n",
    "\n",
    "Estimated values for \"\"\"r\"\"\"$\\boldsymbol{\\beta}$\"\"\"\n",
    "\n",
    "rf\"\"\"\n",
    "- $\\hat\\beta_0$ = {hat_beta_0_reg[0]:.04f}\n",
    "- $\\hat\\beta_1$ = {hat_beta_1_reg[0][0]:.04f}\n",
    "\"\"\"\n",
    "))"
   ]
  },
  {
   "cell_type": "markdown",
   "metadata": {
    "id": "EMILIg_8mQwe"
   },
   "source": [
    "What is the equation of the fitted model?"
   ]
  },
  {
   "cell_type": "markdown",
   "metadata": {
    "id": "V2dIt0n8mTF6"
   },
   "source": [
    "---\n",
    "\n",
    "$$\\bar{Y} = -5951.9974 + 50.4952 \\bar{X}$$\n",
    "\n",
    "---"
   ]
  },
  {
   "cell_type": "markdown",
   "metadata": {
    "id": "cez08TzJmWhc"
   },
   "source": [
    "## b: Interpret Model Parameters\n",
    "\n",
    "Interpret the slope and the intercept. That is, for every 1-unit change in `flipper_length_mm` what happens?\n",
    "\n"
   ]
  },
  {
   "cell_type": "markdown",
   "metadata": {
    "id": "vkq5tNZDmmfW"
   },
   "source": [
    "---\n",
    "\n",
    "**At zero flipper length, the penguins are predicted to have about ~ -5952 body mass (intercept) in grams, while for every one unit change in the flipper length of penguins, the body mass increases by about ~50.1 grams (slope).**\n",
    "\n",
    "---"
   ]
  },
  {
   "cell_type": "markdown",
   "metadata": {
    "id": "QwbwyV4Wmk1f"
   },
   "source": [
    "Are the coefficients significant?"
   ]
  },
  {
   "cell_type": "markdown",
   "metadata": {
    "id": "fGYwxOKPjOOp"
   },
   "source": [
    "---\n",
    "\n",
    "**Yes, the coefficients are significant. The intercept indicate a value that poiints towards variability in the data and the slope indicates that there is an overall positive relationship between flipper length and body mass of penguins.**\n",
    "\n",
    "---"
   ]
  },
  {
   "cell_type": "markdown",
   "metadata": {
    "id": "rWE19iEWmq9B"
   },
   "source": [
    "## c: Creating Predictions\n",
    "\n",
    "If we had two additional penguins added to the data set with Flipper Length equivalent to 175 and 200 mm respectively, what would their body mass be?"
   ]
  },
  {
   "cell_type": "code",
   "execution_count": 8,
   "metadata": {
    "id": "6nq34P3Gm-Jk"
   },
   "outputs": [
    {
     "name": "stdout",
     "output_type": "stream",
     "text": [
      "[[2884.66957345]\n",
      " [4147.05056994]]\n"
     ]
    },
    {
     "data": {
      "text/markdown": [
       "\n",
       "\n",
       "Estimated penguin body mass value for \n",
       "- Flipper Length = 175 mm is 2884.6696 and\n",
       "- Flipper Length = 200 mm is 4147.0506\n"
      ],
      "text/plain": [
       "<IPython.core.display.Markdown object>"
      ]
     },
     "metadata": {},
     "output_type": "display_data"
    }
   ],
   "source": [
    "## Code here\n",
    "X_test_new = pd.DataFrame({\"flipper_length_mm\": [175, 200]})\n",
    "\n",
    "# Obtain predictions only on the test data\n",
    "Y_hat_test = model.predict(X_test_new)\n",
    "\n",
    "print(Y_hat_test)\n",
    "\n",
    "display(Markdown(rf\"\"\"\n",
    "\n",
    "Estimated penguin body mass value for \"\"\"\n",
    "\n",
    "rf\"\"\"\n",
    "- Flipper Length = 175 mm is {Y_hat_test[0, 0]:.04f} and\n",
    "- Flipper Length = 200 mm is {Y_hat_test[1, 0]:.04f}\n",
    "\"\"\"\n",
    "))"
   ]
  },
  {
   "cell_type": "markdown",
   "metadata": {
    "id": "uGa0NcS0nDzh"
   },
   "source": [
    "## d: Residuals\n",
    "\n",
    "Confirm that the mean of residuals generated by the model is zero."
   ]
  },
  {
   "cell_type": "code",
   "execution_count": 9,
   "metadata": {
    "id": "3QYgPaoRnLrp"
   },
   "outputs": [
    {
     "name": "stdout",
     "output_type": "stream",
     "text": [
      "Residual mean = -0.0000\n"
     ]
    }
   ],
   "source": [
    "## Code here\n",
    "y_pred = model.predict(X_train)\n",
    "\n",
    "residuals = y_train - y_pred\n",
    "\n",
    "# Mean of residuals\n",
    "resid_mean = np.mean(residuals)\n",
    "\n",
    "print(f\"Residual mean = {resid_mean:.4f}\")"
   ]
  },
  {
   "cell_type": "markdown",
   "metadata": {
    "id": "UiEAqpu_nOCy"
   },
   "source": [
    "## e: Your favorite Model\n",
    "\n",
    "Please try fitting a slightly more complex model that includes at least 2 or more independent variables ($x_1$, $x_2$, ... )."
   ]
  },
  {
   "cell_type": "code",
   "execution_count": 10,
   "metadata": {
    "id": "3ZS6TwiIndVf"
   },
   "outputs": [
    {
     "name": "stdout",
     "output_type": "stream",
     "text": [
      "Number of samples in testing: 86 (~25.0%) of the original set\n",
      "Number of samples in training: 258 (~75.0%) of the original set\n"
     ]
    },
    {
     "data": {
      "text/markdown": [
       "\n",
       "\n",
       "Estimated values for $\\boldsymbol{\\beta}$\n",
       "- $\\hat\\beta_0$ = -270.9548\n",
       "- $\\hat\\beta_1, \\hat\\beta_2, \\hat\\beta_3$ = 20.0890, 154.1769, 681.5118\n"
      ],
      "text/plain": [
       "<IPython.core.display.Markdown object>"
      ]
     },
     "metadata": {},
     "output_type": "display_data"
    }
   ],
   "source": [
    "###\n",
    "penguins = penguins.fillna({'bill_length_mm': penguins['bill_length_mm'].median(), \\\n",
    "                           'bill_depth_mm': penguins['bill_depth_mm'].median()})\n",
    "\n",
    "X_train, X_test, y_train, y_test = train_test_split(penguins[[\"flipper_length_mm\", \"sex\", \"species\"]], \\\n",
    "                                                    penguins[[\"body_mass_g\"]], random_state = 430)\n",
    "\n",
    "print(f\"Number of samples in testing: {X_test.shape[0]} (~\"\n",
    "      f\"{X_test.shape[0] / penguins.shape[0] * 100:.1f}%) of the\"\n",
    "      f\" original set\")\n",
    "print(f\"Number of samples in training: {X_train.shape[0]} (~\"\n",
    "      f\"{X_train.shape[0] / penguins.shape[0] * 100:.1f}%) of the\"\n",
    "      f\" original set\")\n",
    "\n",
    "X_train_ind = pd.get_dummies(X_train)\n",
    "\n",
    "# Create a linear regression model object\n",
    "model = LinearRegression()\n",
    "\n",
    "# Train the model using the training sets\n",
    "model.fit(X_train_ind, y_train)\n",
    "\n",
    "# Retrieve parameters (p >= 1)\n",
    "hat_beta_1_reg = model.coef_\n",
    "hat_beta_1_reg = np.array(hat_beta_1_reg).flatten()\n",
    "\n",
    "# Retrieve the intercept term (p = 0)\n",
    "hat_beta_0_reg = model.intercept_\n",
    "\n",
    "# Display guesses in a nicely formatted manner\n",
    "display(Markdown(rf\"\"\"\n",
    "\n",
    "Estimated values for \"\"\"r\"\"\"$\\boldsymbol{\\beta}$\"\"\"\n",
    "\n",
    "rf\"\"\"\n",
    "- $\\hat\\beta_0$ = {hat_beta_0_reg[0]:.04f}\n",
    "- $\\hat\\beta_1, \\hat\\beta_2, \\hat\\beta_3$ = {hat_beta_1_reg[0]:.04f}, {hat_beta_1_reg[1]:.04f}, {hat_beta_1_reg[2]:.04f}\n",
    "\"\"\"\n",
    "))"
   ]
  },
  {
   "cell_type": "markdown",
   "metadata": {
    "id": "EEYf6DtUneHy"
   },
   "source": [
    "How does youre model perform?"
   ]
  },
  {
   "cell_type": "markdown",
   "metadata": {
    "id": "9z1qCEXanfs0"
   },
   "source": [
    "----\n",
    "\n",
    "**The model seems to perform better with more predictors that account for some variability in the data. That is, the intercept is largely reduced compared to when we had one predictor.**\n",
    "\n",
    "---"
   ]
  },
  {
   "cell_type": "markdown",
   "metadata": {
    "id": "cuBKZcUmcWPm"
   },
   "source": [
    "# Exercise 2: Diving into Residuals\n",
    "\n",
    "Consider the `surreal_residual` data set found here:\n",
    "\n",
    "<https://raw.githubusercontent.com/coatless/raw-data/main/surreal-residuals.csv>\n",
    "\n",
    "The data set contains 7 variables. The first variable is the response and the remaining variables in columns 2 - 7 contain the predictors.\n",
    "\n"
   ]
  },
  {
   "cell_type": "markdown",
   "metadata": {
    "id": "_j90XPXBYpn_"
   },
   "source": [
    "## a: Data import\n",
    "\n",
    "Please import the data into Python using pandas."
   ]
  },
  {
   "cell_type": "code",
   "execution_count": null,
   "metadata": {
    "id": "oO6HaebKcu80"
   },
   "outputs": [],
   "source": [
    "## code here"
   ]
  },
  {
   "cell_type": "markdown",
   "metadata": {
    "id": "vEZElVfyYyOf"
   },
   "source": [
    "## b: Pair-wise plot\n",
    "\n",
    "Construct a pair-wise graph using seaborn's [`sns.pairplot()`](https://seaborn.pydata.org/generated/seaborn.pairplot.html). Comment if any values look abnormal."
   ]
  },
  {
   "cell_type": "code",
   "execution_count": null,
   "metadata": {
    "id": "bGBJ5kYQWp42"
   },
   "outputs": [],
   "source": [
    "## code here"
   ]
  },
  {
   "cell_type": "markdown",
   "metadata": {
    "id": "BvzkNx5mY6u8"
   },
   "source": [
    "## c: Fit Multiple Linear Regression\n",
    "\n",
    "Fit a model using the variable in the first column as the response and columns 2 - 7 as the response. Please ensure that the model contains an intercept"
   ]
  },
  {
   "cell_type": "code",
   "execution_count": null,
   "metadata": {
    "id": "NpHQYSGZhAQI"
   },
   "outputs": [],
   "source": [
    "## code here"
   ]
  },
  {
   "cell_type": "markdown",
   "metadata": {
    "id": "Zg_WXFW-ZpF4"
   },
   "source": [
    "## d: Model Overview\n",
    "\n",
    "Please show the estimated parameters of the model using the model summary feature of `statsmodels`."
   ]
  },
  {
   "cell_type": "code",
   "execution_count": null,
   "metadata": {
    "id": "qX0r0AmwaVsM"
   },
   "outputs": [],
   "source": [
    "## code here"
   ]
  },
  {
   "cell_type": "markdown",
   "metadata": {
    "id": "W4UEu5Txaa8K"
   },
   "source": [
    "Looking at the model overview, does there appear to be any issues?"
   ]
  },
  {
   "cell_type": "markdown",
   "metadata": {
    "id": "_wtd0jPUZJof"
   },
   "source": [
    "---\n",
    "\n",
    "answer\n",
    "\n",
    "---"
   ]
  },
  {
   "cell_type": "markdown",
   "metadata": {
    "id": "Ll2-NpP7af2P"
   },
   "source": [
    "## e: Compute and Visualize\n",
    "\n",
    "Please compute the predicted values and the resulting residuals.\n",
    "\n"
   ]
  },
  {
   "cell_type": "code",
   "execution_count": null,
   "metadata": {
    "id": "geqdNFRvVpUO"
   },
   "outputs": [],
   "source": [
    "## code here"
   ]
  },
  {
   "cell_type": "markdown",
   "metadata": {
    "id": "7pStU1ihbKDo"
   },
   "source": [
    "## f: Visualizing Residuals\n",
    "\n",
    "Create a graph of the predicted values ($x$-axis) against the residuals ($y$-axis).\n"
   ]
  },
  {
   "cell_type": "code",
   "execution_count": null,
   "metadata": {
    "id": "WcHRBEmpfA4-"
   },
   "outputs": [],
   "source": [
    "## code here"
   ]
  },
  {
   "cell_type": "markdown",
   "metadata": {
    "id": "sD13ay8UbaTS"
   },
   "source": [
    "What do you notice about the residual pattern? What does this indicate about the benefits of using a residual plot?"
   ]
  },
  {
   "cell_type": "markdown",
   "metadata": {
    "id": "RxlqEXpAbdCY"
   },
   "source": [
    "---\n",
    "\n",
    "answer\n",
    "\n",
    "---"
   ]
  },
  {
   "cell_type": "markdown",
   "metadata": {
    "id": "FXvEv7auks52"
   },
   "source": [
    "# Exercise 3: [i am numpy](https://www.youtube.com/watch?v=RMdIx228dBw)\n",
    "\n",
    "In this exercise, we emphasize different components of the NumPy library.\n",
    "\n"
   ]
  },
  {
   "cell_type": "markdown",
   "metadata": {
    "id": "sX5hRdkGxgQO"
   },
   "source": [
    "### a: NumPy Calculations\n",
    "\n",
    "Consider the following matrix $\\mathbf{A}$ and column vector $\\mathbf{x}$:\n",
    "\n",
    "$$\n",
    "\\mathbf{A} = \\begin{bmatrix}\n",
    "-1 & 3 & 5 \\\\\n",
    " 4 & 9 & 7 \\\\\n",
    " 8 & 3 & 1 \\\\\n",
    "\\end{bmatrix}_{3 \\times 3},\\quad \\mathbf{x} = \\begin{bmatrix}\n",
    "3 \\\\\n",
    "1 \\\\\n",
    "2\n",
    "\\end{bmatrix}_{3 \\times 1}\n",
    "$$\n",
    "\n",
    "Compute the following:\n",
    "\n",
    "1. $\\mathbf{A}\\mathbf{x}$\n",
    "2. $\\mathbf{A}^\\top$\n",
    "3. $\\mathbf{x}^\\top\\mathbf{A}\\mathbf{x}$\n",
    "\n",
    "\n"
   ]
  },
  {
   "cell_type": "code",
   "execution_count": null,
   "metadata": {
    "id": "4pnEGkvggPCO"
   },
   "outputs": [],
   "source": [
    "# Code here"
   ]
  },
  {
   "cell_type": "markdown",
   "metadata": {
    "id": "gJzf_AXwwDIw"
   },
   "source": [
    "### b: Random Number Generation\n",
    "\n",
    "Using NumPy, create a function that generates two random $n \\times p$ arrays from a normal distribution.\n",
    "\n",
    "Implementation Guidelines:\n",
    "\n",
    "- **Arguments:**\n",
    "    - `n`: Number of Rows\n",
    "    - `p`: Number of Columns\n",
    "- **Return:**\n",
    "    - Two NumPy arrays of dimensions $n \\times p$.\n",
    "\n",
    "**Note:** _Python_ allows a function to return multiple values by having them prefixed by a comma `,` in the `return` statement. For example, using `return x1, x2` would return both `x1` and `x2`. These values may be unpacked and assigned individually on the same line as a function call:\n",
    "\n",
    "```\n",
    "output_x_1, output_x_2 = my_function()\n",
    "```"
   ]
  },
  {
   "cell_type": "code",
   "execution_count": null,
   "metadata": {
    "id": "UWwxuZkzdEw3"
   },
   "outputs": [],
   "source": [
    "# Code here"
   ]
  },
  {
   "cell_type": "markdown",
   "metadata": {
    "id": "QIhKtY7owLUv"
   },
   "source": [
    "### c: Hadamard Product Vectorized vs. Looped\n",
    "\n",
    "Next, let's create two different functions that compute the **Hadamard (element-wise) product** between matrices in two different ways:\n",
    "\n",
    "1. Implement the element-wise matrix multiplication using two `for` loops\n",
    "   to visit _each_ element in the matrix.\n",
    "2. Use NumPy's built-in `*` functionality.\n",
    "\n",
    "Recall, the **hadamard (element-wise) product** requires two matrices $\\mathbf{A}, \\mathbf{B} \\in \\mathbb{R}^{n \\times m}$ such that:\n",
    "\n",
    "$$\\begin{align}\n",
    "(\\mathbf{A} \\circ \\mathbf{B})_{ij} &= (\\mathbf{A} \\odot \\mathbf{B})_{ij} \\\\\n",
    "&= (\\mathbf{A})_{ij} (\\mathbf{B})_{ij} \\\\\n",
    "&=\\begin{bmatrix}\n",
    " a_{11}b_{11} & a_{12}b_{12} & \\cdots & a_{1m}b_{1m} \\\\\n",
    " a_{21}b_{21} & a_{22}b_{22} & \\cdots & a_{2m}b_{2m} \\\\\n",
    "\\vdots & \\vdots & \\ddots & \\vdots \\\\\n",
    " a_{n1}b_{n1} & a_{n2}b_{n1} & \\cdots & a_{nm}b_{nm} \\\\\n",
    "\\end{bmatrix}_{n \\times m}\n",
    "\\end{align}$$\n",
    "\n",
    "Implementation Guidelines for each function:\n",
    "\n",
    "- **Arguments:**\n",
    "  - `A`: Array of dimension $n \\times p$\n",
    "  - `B`: Array of dimension $n \\times p$\n",
    "- **Return:**\n",
    "  - Hadamard product of $A \\circ B$.\n",
    "\n",
    "\n"
   ]
  },
  {
   "cell_type": "code",
   "execution_count": null,
   "metadata": {
    "id": "4GgSQOvxgY9s"
   },
   "outputs": [],
   "source": [
    "# Code here"
   ]
  },
  {
   "cell_type": "markdown",
   "metadata": {
    "id": "IDILrTk-wKGo"
   },
   "source": [
    "### d: Benchmarking\n",
    "\n",
    "Run each function **100 times** while timing how long each function takes to execute. Store the run time of each run into a numpy array.\n",
    "\n",
    "The following code snippet should help with setting up timing.\n",
    "\n",
    "```python\n",
    "import time\n",
    "\n",
    "# Setup any data required for the functions here:\n",
    "A = ...\n",
    "B = ...\n",
    "\n",
    "# Start timining\n",
    "start_time = time.time()\n",
    "\n",
    "# Place desired function to time here\n",
    "\n",
    "# Finish timing\n",
    "end_time = time.time()\n",
    "\n",
    "# Calculate final time\n",
    "run_time = end_time - start_time\n",
    "```\n",
    "\n",
    "Compute the mean and standard deviation of how long each function took to run.\n",
    "\n"
   ]
  },
  {
   "cell_type": "code",
   "execution_count": null,
   "metadata": {
    "id": "miCE1MZJgbPR"
   },
   "outputs": [],
   "source": [
    "# Code here"
   ]
  },
  {
   "cell_type": "markdown",
   "metadata": {
    "id": "RhXRdqBxgeHa"
   },
   "source": [
    "What are the notable differences between the two functions? If you had perform this operation millions of times, which function should be chosen?"
   ]
  },
  {
   "cell_type": "markdown",
   "metadata": {
    "id": "zhZ1yblAgfQD"
   },
   "source": [
    "... answer here ..."
   ]
  },
  {
   "cell_type": "markdown",
   "metadata": {
    "id": "rWVLCAyv6bkE"
   },
   "source": [
    "# Exercise 4: Descending Gradients\n",
    "\n",
    "The objective of this exercise is to expand simple linear regression to estimating multiple linear regression with parameters estimated by gradient descent.\n",
    "\n",
    "\n"
   ]
  },
  {
   "cell_type": "markdown",
   "metadata": {
    "id": "_ApjZcw6Divu"
   },
   "source": [
    "### a: Data Generating Function Creation\n",
    "\n",
    "Design and implement a function that randomly generates a set of data and observed values for linear regression given dimensions and parameter values. Make sure to add \"noise\" to the predictions to avoid having a perfectly linear relationship and ensure that the first column of the design matrix contains only the value **1** so that the model has an intercept term.\n",
    "\n",
    "$$\\boldsymbol{Y} = \\boldsymbol{X}\\boldsymbol{\\beta} + \\boldsymbol{\\varepsilon}$$\n",
    "\n",
    "Implementation Guidelines:\n",
    "\n",
    "- **Arguments:**\n",
    "    - `n`: Number of Observations\n",
    "    - `theta`: A vector of true parameter values up to `p`.\n",
    "    - `noise`: A single value that adds distortion.\n",
    "    - `seed`: Value to generate the data under.\n",
    "- **Return:**\n",
    "    - `X` the design matrix of dimensions `n x p`, with the first column a series of 1s.\n",
    "    - `y` the values observed with added noise.\n",
    "\n",
    "_Hints:_\n",
    "\n",
    "- NumPy has a built in way of generating random data with [`np.random.randn(n, p)`](https://numpy.org/doc/stable/reference/random/generated/numpy.random.randn.html)\n",
    "- Moreover, to add a column, consider using [`np.append(new_col, data, 1)`](https://docs.scipy.org/doc/numpy/reference/generated/numpy.append.html).\n",
    "\n",
    "\n",
    "**Note:** _Python_ allows a function to return multiple values by having them prefixed by a comma `,` in the `return` statement. E.g. `return x1, x2` would return both `x1` and `x2`. These values may be unpacked and assigned individually on the same line as a function call:\n",
    "\n",
    "```\n",
    "output_x_1, output_x_2 = my_function()\n",
    "```"
   ]
  },
  {
   "cell_type": "code",
   "execution_count": 13,
   "metadata": {
    "id": "KWtzfaaiLfjP"
   },
   "outputs": [],
   "source": [
    "# Code here\n",
    "\n",
    "def generate_data(n, theta, noise, seed):\n",
    "    \n",
    "    np.random.seed(seed)\n",
    "    \n",
    "    p = len(theta)\n",
    "    X = np.random.randn(n, p-1)\n",
    "    X = np.insert(X, 0, 1, axis = 1)\n",
    "    error = np.random.normal(loc = 0, scale = noise, size = n) \n",
    "    y = X.dot(theta) + error\n",
    "    \n",
    "    return X, y"
   ]
  },
  {
   "cell_type": "code",
   "execution_count": 14,
   "metadata": {
    "id": "o--uS6xl-Hm8"
   },
   "outputs": [],
   "source": [
    "# Verification of solutions\n",
    "n = 100\n",
    "noise = 1\n",
    "seed = 1312\n",
    "theta = [1, 2]\n",
    "\n",
    "X, y = generate_data(n, theta, noise, seed)"
   ]
  },
  {
   "cell_type": "markdown",
   "metadata": {
    "id": "2_81cENrMzDf"
   },
   "source": [
    "### b: Prediction Computation\n",
    "\n",
    "Create a function that computes predictions under multiple linear regression.\n",
    "\n",
    "$$\\hat Y = X \\hat\\beta$$\n",
    "\n",
    "Implementation Guidelines:\n",
    "\n",
    "- **Arguments:**\n",
    "    - `X`: A design matrix of dimension `n x p`\n",
    "    - `theta`: A vector holding the parameters `p`.\n",
    "- **Return:**\n",
    "    - A vector of prediction length `n`.\n",
    "\n"
   ]
  },
  {
   "cell_type": "code",
   "execution_count": 15,
   "metadata": {
    "id": "L2DSMYwdLj0_"
   },
   "outputs": [],
   "source": [
    "# Code here\n",
    "\n",
    "def multiple_linearReg(X, theta):\n",
    "          \n",
    "    y_hat = X.dot(theta)\n",
    "    \n",
    "    return y_hat"
   ]
  },
  {
   "cell_type": "markdown",
   "metadata": {
    "id": "sKg3A3uSLO40"
   },
   "source": [
    "### c: MSE Cost\n",
    "\n",
    "Implement the mean squared error cost function for multiple linear regression in Python.\n",
    "\n",
    "$$MSE(y_i, \\hat y_i) = \\frac{1}{n}\\sum_{i=1}^{n} \\left({y_i - \\hat y_i}\\right)^2$$\n",
    "\n",
    "Implementation Guidelines:\n",
    "\n",
    "- **Arguments:**\n",
    "    - `X`: A design matrix of dimension `n x p`\n",
    "    - `y`: Vector containing the actual values `n`.\n",
    "    - `theta`: A vector of parameter estimates `p`.\n",
    "- **Return:**\n",
    "    - Single value of cost."
   ]
  },
  {
   "cell_type": "code",
   "execution_count": 16,
   "metadata": {
    "id": "aJN7uX_ZLpTQ"
   },
   "outputs": [],
   "source": [
    "# Code here\n",
    "\n",
    "from sklearn.metrics import mean_squared_error\n",
    "\n",
    "def MSE_calculator(X, y, theta):\n",
    "    \n",
    "    y_hat = X.dot(theta)\n",
    "    \n",
    "    model_error = mean_squared_error(y, y_hat)\n",
    "    \n",
    "    return model_error"
   ]
  },
  {
   "cell_type": "code",
   "execution_count": 17,
   "metadata": {},
   "outputs": [],
   "source": [
    "# print(f\"The root mean squared error of the optimal model is {model_error:.2f}\")"
   ]
  },
  {
   "cell_type": "markdown",
   "metadata": {
    "id": "NOaEK_UNZft1"
   },
   "source": [
    "### d: Gradient Descent for MLR\n",
    "\n",
    "Build a function that performs gradient descent for multiple linear regression across all parameters.\n",
    "\n",
    "That is, compute:\n",
    "\n",
    "$$\\theta_j := \\theta_j - \\alpha \\frac{\\partial }{\\partial \\theta_j} J(\\theta_0, \\theta_1, \\cdots, \\theta_p)$$\n",
    "\n",
    "where:\n",
    "\n",
    "$$\\begin{align}\n",
    "\\frac{\\partial }{\\partial \\theta_j} J(\\theta_0, \\theta_1, \\cdots, \\theta_p) &= \\frac{2}{n} \\sum_{i=1}^n \\left[\\left({ y_i - \\hat y_i }\\right) \\left(-x_{ij}\\right)\\right] \\\\\n",
    "&= \\frac{2}{n} \\sum_{i=1}^n \\left[\\left({  \\hat y_i - y_i  }\\right)x_{ij}\\right] \\\\\n",
    "&= \\frac{2}{n} \\sum_{i=1}^n \\left[\\left({ \\left[ \\sum_{j=1}^{p}   x_{ij} \\hat\\theta_j \\right] - y_i  }\\right)x_{ij}\\right] \\\\\n",
    "\\end{align}$$\n",
    "\n",
    "Make sure to store the value of the cost function at each epoch.\n",
    "\n",
    "Implementation Guidelines:\n",
    "\n",
    "- **Arguments:**\n",
    "    - `X`: A design matrix of dimension `n x p`\n",
    "    - `y`: Vector containing the actual values `n`.\n",
    "    - `theta`: A vector of parameter estimates `p`.\n",
    "    - `alpha`: The learning rate for the problem.\n",
    "     - Default: `0.002`\n",
    "    -  `epochs`: Number of times to run gradient descent\n",
    "- **Return:**\n",
    "    - `theta_hat`: The estimated values for the parameters.\n",
    "    - `cost`: Final cost value.\n",
    "    - `cost_history`: An array containing the cost at each epoch."
   ]
  },
  {
   "cell_type": "code",
   "execution_count": 18,
   "metadata": {
    "id": "uiO962e9Ltfd"
   },
   "outputs": [],
   "source": [
    "# Code here\n",
    "\n",
    "def MLR_GD_calculator(X, y, theta, epochs, alpha = 0.002):\n",
    "    \n",
    "    n = float(len(X))\n",
    "    \n",
    "    cost_history = np.zeros(epochs)\n",
    "    \n",
    "    for i in range(epochs):\n",
    "        \n",
    "        y_hat = X.dot(theta)\n",
    "        \n",
    "        D_theta = (-2 / n) * X.T.dot(y - y_hat)\n",
    "\n",
    "        # Consecutive update\n",
    "        theta_hat = theta - alpha * D_theta       # Update theta_hat\n",
    "        theta = theta_hat                         # Update theta_hat\n",
    "\n",
    "        # Compute cost under the updated parameters\n",
    "        cost = sum((y - y_hat) ** 2) / n          # Compute cost\n",
    "        \n",
    "        cost_history[i] = cost                    # Save into history\n",
    "        \n",
    "    return theta_hat, cost, cost_history"
   ]
  },
  {
   "cell_type": "markdown",
   "metadata": {
    "id": "gKnGZ8TefMPx"
   },
   "source": [
    "### e: Application of Functions\n",
    "\n",
    "\n",
    "With the functions in hand, attempt to perform two estimations under conditions:\n",
    "\n",
    "_Scenario 1_:\n",
    "\n",
    "$$\n",
    "\\begin{align}\n",
    "\\theta_0 &= -3.1, \\theta_1 = 1.5\\\\\n",
    "n &= 1000, \\text{epoch} = 9000 \\\\\n",
    "\\end{align}\n",
    "$$\n",
    "\n",
    "_Scenario 2_:\n",
    "\n",
    "$$\n",
    "\\begin{align}\n",
    "\\theta_0 &= 2, \\theta_1 = -1, \\theta_2 = 3.3 \\\\\n",
    "n &= 500, \\text{epoch} = 6000 \\\\\n",
    "\\end{align}\n",
    "$$\n",
    "\n",
    "**Note:** Feel free to see what happens when $\\alpha$ is set to be higher or lower than the default.\n",
    "\n",
    "**For reproducibility, set a seed using your favorite 4 digit number.**\n",
    "\n",
    "As the data is generated using NumPy, please use [`np.random.seed(seed_value)`](https://numpy.org/doc/stable/reference/random/generated/numpy.random.seed.html) to set the seed.\n",
    "\n"
   ]
  },
  {
   "cell_type": "code",
   "execution_count": 19,
   "metadata": {
    "id": "WQvhIKNyLzQJ"
   },
   "outputs": [
    {
     "name": "stdout",
     "output_type": "stream",
     "text": [
      "X_shape: (1000, 2)\n",
      "y_shape: (1000,)\n",
      "y_hat_shape: (1000,)\n",
      "The predicted parameters are: -3.0688, 1.5062\n",
      "The final cost is: 1.0123\n",
      "The cost history is: [1.01329395 1.01328579 1.01327769 ... 1.0122766  1.0122766  1.0122766 ]\n"
     ]
    }
   ],
   "source": [
    "# Simulation Code\n",
    "# Code here\n",
    "n = 1000\n",
    "theta = [-3.1, 1.5]\n",
    "noise = 1\n",
    "seed = 1219\n",
    "epochs = 9000\n",
    "\n",
    "# Scenario 1\n",
    "X, y = generate_data(n, theta, noise, seed)\n",
    "y_hat = multiple_linearReg(X, theta)\n",
    "theta_hat, cost, cost_history = MLR_GD_calculator(X, y, theta, epochs)\n",
    "flat_theta_hat = \", \".join([f\"{t:.4f}\" for t in theta_hat])\n",
    "\n",
    "print(\"X_shape:\", np.shape(X))\n",
    "print(\"y_shape:\", np.shape(y))\n",
    "print(\"y_hat_shape:\", np.shape(y_hat))\n",
    "print(f\"The predicted parameters are: {flat_theta_hat}\")\n",
    "print(f\"The final cost is: {cost:.4f}\")\n",
    "print(\"The cost history is:\", cost_history)"
   ]
  },
  {
   "cell_type": "code",
   "execution_count": 20,
   "metadata": {
    "id": "MI1-prxpawIC"
   },
   "outputs": [
    {
     "name": "stdout",
     "output_type": "stream",
     "text": [
      "X_shape: (500, 3)\n",
      "y_shape: (500,)\n",
      "y_hat_shape: (500,)\n",
      "The predicted parameters are: 2.0077, -1.0068, 3.3365\n",
      "The final cost is: 0.9702\n",
      "The cost history is: [0.97164978 0.97163786 0.97162603 ... 0.97018748 0.97018748 0.97018748]\n"
     ]
    }
   ],
   "source": [
    "# Simulation Code\n",
    "n = 500\n",
    "theta = [2, -1, 3.3]\n",
    "noise = 1\n",
    "seed = 1219\n",
    "epochs = 6000\n",
    "\n",
    "# Scenario 2\n",
    "X, y = generate_data(n, theta, noise, seed)\n",
    "y_hat = multiple_linearReg(X, theta)\n",
    "model_error = MSE_calculator(X, y, theta)\n",
    "theta_hat, cost, cost_history = MLR_GD_calculator(X, y, theta, epochs)\n",
    "flat_theta_hat = \", \".join([f\"{t:.4f}\" for t in theta_hat])\n",
    "\n",
    "print(\"X_shape:\", np.shape(X))\n",
    "print(\"y_shape:\", np.shape(y))\n",
    "print(\"y_hat_shape:\", np.shape(y_hat))\n",
    "print(f\"The predicted parameters are: {flat_theta_hat}\")\n",
    "print(f\"The final cost is: {cost:.4f}\")\n",
    "print(\"The cost history is:\", cost_history)\n"
   ]
  },
  {
   "cell_type": "markdown",
   "metadata": {
    "id": "j7nOfSf--iM_"
   },
   "source": [
    "### f: Cost History Plot\n",
    "\n",
    "Using the cost history for _one_ of the scenarios, create a convergence plot of cost function values. That is, graph the outcome $J(\\boldsymbol{\\theta})$ by epoch."
   ]
  },
  {
   "cell_type": "code",
   "execution_count": 21,
   "metadata": {
    "id": "-uHAB06hL5Kg"
   },
   "outputs": [
    {
     "data": {
      "image/png": "[encoded data removed]",
      "text/plain": [
       "<Figure size 1000x500 with 1 Axes>"
      ]
     },
     "metadata": {},
     "output_type": "display_data"
    }
   ],
   "source": [
    "# Code here\n",
    "# Visualizing cost history plot for Scenario 2\n",
    "\n",
    "from matplotlib import pyplot as plt\n",
    "\n",
    "fig = plt.figure(figsize=(10, 5))\n",
    "plt.xlabel('Number of Epochs')\n",
    "plt.ylabel(r'Cost $J(\\theta)$')\n",
    "plt.title(r'Analyzing Gradient Descent Optimiation of $J(\\theta)$ over Epochs')\n",
    "plt.grid()\n",
    "plt.plot(np.arange(cost_history.size) + 1, cost_history, 'r')\n",
    "plt.tight_layout()\n",
    "plt.show()"
   ]
  },
  {
   "cell_type": "markdown",
   "metadata": {
    "id": "TSuVPM-X_LEg"
   },
   "source": [
    "Provide an interpretation of the graph. Please make sure to address:\n",
    "\n",
    "1. Does the cost converge to a minimum value?\n",
    "2. Does the cost values continually decrease or does it \"jumping\"?"
   ]
  },
  {
   "cell_type": "markdown",
   "metadata": {
    "id": "j0QCbBWib4_U"
   },
   "source": [
    "1. **Yes. The cost converges to a minimum value of about 0.9702 with increasing epochs.**\n",
    "2. **The cost values decrease exponentially till convergence at around 700 epochs.**"
   ]
  },
  {
   "cell_type": "code",
   "execution_count": null,
   "metadata": {},
   "outputs": [],
   "source": []
  }
 ],
 "metadata": {
  "colab": {
   "provenance": [],
   "toc_visible": true
  },
  "kernelspec": {
   "display_name": "Python 3 (ipykernel)",
   "language": "python",
   "name": "python3"
  },
  "language_info": {
   "codemirror_mode": {
    "name": "ipython",
    "version": 3
   },
   "file_extension": ".py",
   "mimetype": "text/x-python",
   "name": "python",
   "nbconvert_exporter": "python",
   "pygments_lexer": "ipython3",
   "version": "3.12.10"
  }
 },
 "nbformat": 4,
 "nbformat_minor": 1
}
