{
 "cells": [
  {
   "cell_type": "code",
   "execution_count": 3,
   "id": "f65423f2",
   "metadata": {},
   "outputs": [
    {
     "data": {
      "text/html": [
       "<div>\n",
       "<style scoped>\n",
       "    .dataframe tbody tr th:only-of-type {\n",
       "        vertical-align: middle;\n",
       "    }\n",
       "\n",
       "    .dataframe tbody tr th {\n",
       "        vertical-align: top;\n",
       "    }\n",
       "\n",
       "    .dataframe thead th {\n",
       "        text-align: right;\n",
       "    }\n",
       "</style>\n",
       "<table border=\"1\" class=\"dataframe\">\n",
       "  <thead>\n",
       "    <tr style=\"text-align: right;\">\n",
       "      <th></th>\n",
       "      <th>Movie_Name</th>\n",
       "      <th>ID</th>\n",
       "      <th>Genre</th>\n",
       "      <th>Release_Year</th>\n",
       "      <th>URL_Link</th>\n",
       "      <th>Price</th>\n",
       "    </tr>\n",
       "  </thead>\n",
       "  <tbody>\n",
       "    <tr>\n",
       "      <th>0</th>\n",
       "      <td>Top Gun: Maverick</td>\n",
       "      <td>Act1</td>\n",
       "      <td>Action</td>\n",
       "      <td>2022</td>\n",
       "      <td>Act1@movie.com</td>\n",
       "      <td>20</td>\n",
       "    </tr>\n",
       "    <tr>\n",
       "      <th>1</th>\n",
       "      <td>Mission: Impossible - Fallout</td>\n",
       "      <td>Act2</td>\n",
       "      <td>Action</td>\n",
       "      <td>2018</td>\n",
       "      <td>Act2@movie.com</td>\n",
       "      <td>15</td>\n",
       "    </tr>\n",
       "    <tr>\n",
       "      <th>2</th>\n",
       "      <td>The Terminator 2: Judgment Day</td>\n",
       "      <td>Act3</td>\n",
       "      <td>Action</td>\n",
       "      <td>1991</td>\n",
       "      <td>Act3@movie.com</td>\n",
       "      <td>25</td>\n",
       "    </tr>\n",
       "    <tr>\n",
       "      <th>3</th>\n",
       "      <td>The Dark Knight</td>\n",
       "      <td>Act4</td>\n",
       "      <td>Action</td>\n",
       "      <td>2008</td>\n",
       "      <td>Act4@movie.com</td>\n",
       "      <td>13</td>\n",
       "    </tr>\n",
       "    <tr>\n",
       "      <th>4</th>\n",
       "      <td>Inception</td>\n",
       "      <td>Act5</td>\n",
       "      <td>Action</td>\n",
       "      <td>2010</td>\n",
       "      <td>Act5@movie.com</td>\n",
       "      <td>15</td>\n",
       "    </tr>\n",
       "  </tbody>\n",
       "</table>\n",
       "</div>"
      ],
      "text/plain": [
       "                       Movie_Name    ID   Genre  Release_Year        URL_Link  \\\n",
       "0               Top Gun: Maverick  Act1  Action          2022  Act1@movie.com   \n",
       "1   Mission: Impossible - Fallout  Act2  Action          2018  Act2@movie.com   \n",
       "2  The Terminator 2: Judgment Day  Act3  Action          1991  Act3@movie.com   \n",
       "3                 The Dark Knight  Act4  Action          2008  Act4@movie.com   \n",
       "4                       Inception  Act5  Action          2010  Act5@movie.com   \n",
       "\n",
       "   Price  \n",
       "0     20  \n",
       "1     15  \n",
       "2     25  \n",
       "3     13  \n",
       "4     15  "
      ]
     },
     "execution_count": 3,
     "metadata": {},
     "output_type": "execute_result"
    }
   ],
   "source": [
    "import pandas as pd\n",
    "\n",
    "movie_list = pd.read_csv(\"Movie List.csv\")\n",
    "movie_list.head()"
   ]
  },
  {
   "cell_type": "code",
   "execution_count": 4,
   "id": "471eb577",
   "metadata": {},
   "outputs": [],
   "source": [
    "%load_ext sql\n",
    "import csv, sqlite3"
   ]
  },
  {
   "cell_type": "code",
   "execution_count": 5,
   "id": "b4c4f6ef",
   "metadata": {},
   "outputs": [],
   "source": [
    "con = sqlite3.connect(\"MoviePurchase.db\")\n",
    "cur = con.cursor()\n",
    "\n",
    "%sql sqlite:///MoviePurchase.db"
   ]
  },
  {
   "cell_type": "markdown",
   "id": "a9dd170a",
   "metadata": {},
   "source": [
    "### Manual Creation of Tables"
   ]
  },
  {
   "cell_type": "code",
   "execution_count": 6,
   "id": "53c29fd2",
   "metadata": {},
   "outputs": [
    {
     "name": "stdout",
     "output_type": "stream",
     "text": [
      " * sqlite:///MoviePurchase.db\n",
      "Done.\n"
     ]
    },
    {
     "data": {
      "text/plain": [
       "[]"
      ]
     },
     "execution_count": 6,
     "metadata": {},
     "output_type": "execute_result"
    }
   ],
   "source": [
    "%%sql\n",
    "DROP TABLE MOVIE_lIST;"
   ]
  },
  {
   "cell_type": "markdown",
   "id": "5f6f0b0f",
   "metadata": {},
   "source": [
    "I noticed that sqlite does not like when you start a cell with something else other than the magic commands, %sql and %%sql. I had a syntax error when I started a cell with a comment before the magic command. "
   ]
  },
  {
   "cell_type": "code",
   "execution_count": 7,
   "id": "4102c424",
   "metadata": {},
   "outputs": [
    {
     "name": "stdout",
     "output_type": "stream",
     "text": [
      " * sqlite:///MoviePurchase.db\n",
      "Done.\n",
      "25 rows affected.\n"
     ]
    },
    {
     "data": {
      "text/plain": [
       "[]"
      ]
     },
     "execution_count": 7,
     "metadata": {},
     "output_type": "execute_result"
    }
   ],
   "source": [
    "%%sql\n",
    "\n",
    "CREATE TABLE MOVIE_LIST (\n",
    "    Movie_Name VARCHAR(50),\n",
    "    ID VARCHAR(50) PRIMARY KEY,\n",
    "    Genre VARCHAR(50),\n",
    "    Release_Year INT,\n",
    "    URL_Link VARCHAR(50),\n",
    "    Price REAL\n",
    ");\n",
    "\n",
    "INSERT INTO MOVIE_LIST (Movie_Name, ID, Genre, Release_Year, URL_Link, Price)\n",
    "VALUES\n",
    "('Top Gun: Maverick', 'Act1', 'Action', 2022, 'Act1@movie.com', 20.00),\n",
    "('Mission: Impossible - Fallout', 'Act2', 'Action', 2018, 'Act2@movie.com', 15.00),\n",
    "('The Terminator 2: Judgment Day', 'Act3', 'Action', 1991, 'Act3@movie.com', 25.00),\n",
    "('The Dark Knight', 'Act4', 'Action', 2008, 'Act4@movie.com', 13.00),\n",
    "('Inception', 'Act5', 'Action', 2010, 'Act5@movie.com', 15.00),\n",
    "('Robin Hood: Prince of Thieves', 'Adv1', 'Adventure', 1991, 'Adv1@movie.com', 18.00),\n",
    "('Stardust', 'Adv2', 'Adventure', 2007, 'Adv2@movie.com', 9),\n",
    "('Alice in Wonderland', 'Adv3', 'Adventure', 2010, 'Adv3@movie.com', 10.00),\n",
    "('The Jungle Book', 'Adv4', 'Adventure', 2016, 'Adv4@movie.com', 18.00),\n",
    "('Jumanji: Welcome to the Jungle', 'Adv5', 'Adventure', 2017, 'Adv5@movie.com', 20.00),\n",
    "('Peter Pan', 'Fan1', 'Fantasy', 2003, 'Fan1@movie.com', 17.00),\n",
    "('Big Fish', 'Fan2', 'Fantasy', 2003, 'Fan2@movie.com', 21.00),\n",
    "('Pinocchio', 'Fan3', 'Fantasy', 2019, 'Fan3@movie.com', 23.00),\n",
    "('Harry Potter and the Sorcerer''s Stone', 'Fan4', 'Fantasy', 2001, 'Fan4@movie.com', 11.00),\n",
    "('The BFG', 'Fan5', 'Fantasy', 2016, 'Fan5@movie.com', 10.00),\n",
    "('12 Years a Slave', 'His1', 'Historical', 2013, 'His1@movie.com', 21.00),\n",
    "('Hidden Figures', 'His2', 'Historical', 2016, 'His2@movie.com', 24.00),\n",
    "('Saving Private Ryan', 'His3', 'Historical', 1998, 'His3@movie.com', 14.00),\n",
    "('Titanic', 'His4', 'Historical', 1997, 'His4@movie.com', 15.00),\n",
    "('Gladiator', 'His5', 'Historical', 2000, 'His5@movie.com', 5.00),\n",
    "('The Notebook', 'Rom1', 'Romance', 2004, 'Rom1@movie.com', 13.00),\n",
    "('A Walk to Remember', 'Rom2', 'Romance', 2002, 'Rom2@movie.com', 12.00),\n",
    "('Pride and Prejudice', 'Rom3', 'Romance', 2005, 'Rom3@movie.com', 18.00),\n",
    "('Pretty Woman', 'Rom4', 'Romance', 1990, 'Rom4@movie.com', 19.00),\n",
    "('The Fault in Our Stars', 'Rom5', 'Romance', 2014, 'Rom5@movie.com', 16.00)"
   ]
  },
  {
   "cell_type": "markdown",
   "id": "04418c41",
   "metadata": {},
   "source": [
    "### Query table"
   ]
  },
  {
   "cell_type": "code",
   "execution_count": 8,
   "id": "ee71b00d",
   "metadata": {},
   "outputs": [
    {
     "name": "stdout",
     "output_type": "stream",
     "text": [
      " * sqlite:///MoviePurchase.db\n",
      "Done.\n"
     ]
    },
    {
     "data": {
      "text/html": [
       "<table>\n",
       "    <thead>\n",
       "        <tr>\n",
       "            <th>Movie_Name</th>\n",
       "            <th>ID</th>\n",
       "            <th>Genre</th>\n",
       "            <th>Release_Year</th>\n",
       "            <th>URL_Link</th>\n",
       "            <th>Price</th>\n",
       "        </tr>\n",
       "    </thead>\n",
       "    <tbody>\n",
       "        <tr>\n",
       "            <td>Top Gun: Maverick</td>\n",
       "            <td>Act1</td>\n",
       "            <td>Action</td>\n",
       "            <td>2022</td>\n",
       "            <td>Act1@movie.com</td>\n",
       "            <td>20.0</td>\n",
       "        </tr>\n",
       "        <tr>\n",
       "            <td>Mission: Impossible - Fallout</td>\n",
       "            <td>Act2</td>\n",
       "            <td>Action</td>\n",
       "            <td>2018</td>\n",
       "            <td>Act2@movie.com</td>\n",
       "            <td>15.0</td>\n",
       "        </tr>\n",
       "        <tr>\n",
       "            <td>The Terminator 2: Judgment Day</td>\n",
       "            <td>Act3</td>\n",
       "            <td>Action</td>\n",
       "            <td>1991</td>\n",
       "            <td>Act3@movie.com</td>\n",
       "            <td>25.0</td>\n",
       "        </tr>\n",
       "        <tr>\n",
       "            <td>The Dark Knight</td>\n",
       "            <td>Act4</td>\n",
       "            <td>Action</td>\n",
       "            <td>2008</td>\n",
       "            <td>Act4@movie.com</td>\n",
       "            <td>13.0</td>\n",
       "        </tr>\n",
       "        <tr>\n",
       "            <td>Inception</td>\n",
       "            <td>Act5</td>\n",
       "            <td>Action</td>\n",
       "            <td>2010</td>\n",
       "            <td>Act5@movie.com</td>\n",
       "            <td>15.0</td>\n",
       "        </tr>\n",
       "    </tbody>\n",
       "</table>"
      ],
      "text/plain": [
       "[('Top Gun: Maverick', 'Act1', 'Action', 2022, 'Act1@movie.com', 20.0),\n",
       " ('Mission: Impossible - Fallout', 'Act2', 'Action', 2018, 'Act2@movie.com', 15.0),\n",
       " ('The Terminator 2: Judgment Day', 'Act3', 'Action', 1991, 'Act3@movie.com', 25.0),\n",
       " ('The Dark Knight', 'Act4', 'Action', 2008, 'Act4@movie.com', 13.0),\n",
       " ('Inception', 'Act5', 'Action', 2010, 'Act5@movie.com', 15.0)]"
      ]
     },
     "execution_count": 8,
     "metadata": {},
     "output_type": "execute_result"
    }
   ],
   "source": [
    "%%sql\n",
    "select * from MOVIE_LIST\n",
    "    limit 5;"
   ]
  },
  {
   "cell_type": "code",
   "execution_count": 9,
   "id": "d82c7002",
   "metadata": {},
   "outputs": [
    {
     "name": "stdout",
     "output_type": "stream",
     "text": [
      " * sqlite:///MoviePurchase.db\n",
      "Done.\n"
     ]
    },
    {
     "data": {
      "text/plain": [
       "[]"
      ]
     },
     "execution_count": 9,
     "metadata": {},
     "output_type": "execute_result"
    }
   ],
   "source": [
    "%%sql\n",
    "DROP TABLE MOVIE_lIST;"
   ]
  },
  {
   "cell_type": "code",
   "execution_count": 10,
   "id": "b7923f81",
   "metadata": {},
   "outputs": [
    {
     "data": {
      "text/plain": [
       "25"
      ]
     },
     "execution_count": 10,
     "metadata": {},
     "output_type": "execute_result"
    }
   ],
   "source": [
    "## Importing from CSV file and converting CSV to SQL table\n",
    "\n",
    "movie_list.to_sql(\"MOVIE_LIST\", con, if_exists = 'replace', index = False, method = \"multi\")"
   ]
  },
  {
   "cell_type": "markdown",
   "id": "7dc31ea8",
   "metadata": {},
   "source": [
    "### Query table"
   ]
  },
  {
   "cell_type": "code",
   "execution_count": 11,
   "id": "b8111da2",
   "metadata": {
    "scrolled": false
   },
   "outputs": [
    {
     "name": "stdout",
     "output_type": "stream",
     "text": [
      " * sqlite:///MoviePurchase.db\n",
      "Done.\n"
     ]
    },
    {
     "data": {
      "text/html": [
       "<table>\n",
       "    <thead>\n",
       "        <tr>\n",
       "            <th>Movie_Name</th>\n",
       "            <th>ID</th>\n",
       "            <th>Genre</th>\n",
       "            <th>Release_Year</th>\n",
       "            <th>URL_Link</th>\n",
       "            <th>Price</th>\n",
       "        </tr>\n",
       "    </thead>\n",
       "    <tbody>\n",
       "        <tr>\n",
       "            <td>Top Gun: Maverick</td>\n",
       "            <td>Act1</td>\n",
       "            <td>Action</td>\n",
       "            <td>2022</td>\n",
       "            <td>Act1@movie.com</td>\n",
       "            <td>20</td>\n",
       "        </tr>\n",
       "        <tr>\n",
       "            <td>Mission: Impossible - Fallout</td>\n",
       "            <td>Act2</td>\n",
       "            <td>Action</td>\n",
       "            <td>2018</td>\n",
       "            <td>Act2@movie.com</td>\n",
       "            <td>15</td>\n",
       "        </tr>\n",
       "        <tr>\n",
       "            <td>The Terminator 2: Judgment Day</td>\n",
       "            <td>Act3</td>\n",
       "            <td>Action</td>\n",
       "            <td>1991</td>\n",
       "            <td>Act3@movie.com</td>\n",
       "            <td>25</td>\n",
       "        </tr>\n",
       "        <tr>\n",
       "            <td>The Dark Knight</td>\n",
       "            <td>Act4</td>\n",
       "            <td>Action</td>\n",
       "            <td>2008</td>\n",
       "            <td>Act4@movie.com</td>\n",
       "            <td>13</td>\n",
       "        </tr>\n",
       "        <tr>\n",
       "            <td>Inception</td>\n",
       "            <td>Act5</td>\n",
       "            <td>Action</td>\n",
       "            <td>2010</td>\n",
       "            <td>Act5@movie.com</td>\n",
       "            <td>15</td>\n",
       "        </tr>\n",
       "    </tbody>\n",
       "</table>"
      ],
      "text/plain": [
       "[('Top Gun: Maverick', 'Act1', 'Action', 2022, 'Act1@movie.com', 20),\n",
       " ('Mission: Impossible - Fallout', 'Act2', 'Action', 2018, 'Act2@movie.com', 15),\n",
       " ('The Terminator 2: Judgment Day', 'Act3', 'Action', 1991, 'Act3@movie.com', 25),\n",
       " ('The Dark Knight', 'Act4', 'Action', 2008, 'Act4@movie.com', 13),\n",
       " ('Inception', 'Act5', 'Action', 2010, 'Act5@movie.com', 15)]"
      ]
     },
     "execution_count": 11,
     "metadata": {},
     "output_type": "execute_result"
    }
   ],
   "source": [
    "%%sql\n",
    "select * from MOVIE_LIST\n",
    "    limit 5;"
   ]
  },
  {
   "cell_type": "code",
   "execution_count": 12,
   "id": "ab48e1af",
   "metadata": {},
   "outputs": [],
   "source": [
    "import tkinter as tk\n",
    "from tkinter import *\n",
    "from tkinter.ttk import Button\n",
    "from PIL import Image, ImageTk"
   ]
  },
  {
   "cell_type": "code",
   "execution_count": 13,
   "id": "f47d413b",
   "metadata": {},
   "outputs": [
    {
     "name": "stdout",
     "output_type": "stream",
     "text": [
      " * sqlite:///MoviePurchase.db\n",
      "Done.\n"
     ]
    }
   ],
   "source": [
    "category = %sql select distinct Genre from MOVIE_LIST;"
   ]
  },
  {
   "cell_type": "code",
   "execution_count": 14,
   "id": "630b10c8",
   "metadata": {},
   "outputs": [
    {
     "data": {
      "text/plain": [
       "['Action', 'Adventure', 'Fantasy', 'Historical', 'Romance']"
      ]
     },
     "execution_count": 14,
     "metadata": {},
     "output_type": "execute_result"
    }
   ],
   "source": [
    "genre = [genre[0] for genre in category]\n",
    "genre"
   ]
  },
  {
   "cell_type": "code",
   "execution_count": 13,
   "id": "3326b18b",
   "metadata": {},
   "outputs": [],
   "source": [
    "# class Movie:\n",
    "#     def __init__(self, MovieName, Price):\n",
    "#         self.MovieName = MovieName\n",
    "#         self.Price = Price\n",
    "\n",
    "#     def Category_menu(ID):\n",
    "#         category_id = %sql select distinct Genre from MOVIE_LIST;\n",
    "#         return category_id  \n",
    "     \n",
    "    \n"
   ]
  },
  {
   "cell_type": "code",
   "execution_count": 15,
   "id": "d61624c9",
   "metadata": {},
   "outputs": [
    {
     "name": "stdout",
     "output_type": "stream",
     "text": [
      " * sqlite:///MoviePurchase.db\n",
      "Done.\n",
      " * sqlite:///MoviePurchase.db\n",
      "Done.\n",
      " * sqlite:///MoviePurchase.db\n",
      "Done.\n",
      " * sqlite:///MoviePurchase.db\n",
      "Done.\n",
      " * sqlite:///MoviePurchase.db\n",
      "Done.\n"
     ]
    },
    {
     "data": {
      "text/plain": [
       "{'Action_Movies': [('Top Gun: Maverick', 'Act1', 'Action', 2022, 'Act1@movie.com', 20),\n",
       "  ('Mission: Impossible - Fallout', 'Act2', 'Action', 2018, 'Act2@movie.com', 15),\n",
       "  ('The Terminator 2: Judgment Day', 'Act3', 'Action', 1991, 'Act3@movie.com', 25),\n",
       "  ('The Dark Knight', 'Act4', 'Action', 2008, 'Act4@movie.com', 13),\n",
       "  ('Inception', 'Act5', 'Action', 2010, 'Act5@movie.com', 15)],\n",
       " 'Adventure_Movies': [('Robin Hood: Prince of Thieves', 'Adv1', 'Adventure', 1991, 'Adv1@movie.com', 18),\n",
       "  ('Stardust', 'Adv2', 'Adventure', 2007, 'Adv2@movie.com', 9),\n",
       "  ('Alice in Wonderland', 'Adv3', 'Adventure', 2010, 'Adv3@movie.com', 10),\n",
       "  ('The Jungle Book', 'Adv4', 'Adventure', 2016, 'Adv4@movie.com', 18),\n",
       "  ('Jumanji: Welcome to the Jungle', 'Adv5', 'Adventure', 2017, 'Adv5@movie.com', 20)],\n",
       " 'Fantasy_Movies': [('Peter Pan', 'Fan1', 'Fantasy', 2003, 'Fan1@movie.com', 17),\n",
       "  ('Big Fish', 'Fan2', 'Fantasy', 2003, 'Fan2@movie.com', 21),\n",
       "  ('Pinocchio', 'Fan3', 'Fantasy', 2019, 'Fan3@movie.com', 23),\n",
       "  (\"Harry Potter and the Sorcerer's Stone \", 'Fan4', 'Fantasy', 2001, 'Fan4@movie.com', 11),\n",
       "  ('The BFG', 'Fan5', 'Fantasy', 2016, 'Fan5@movie.com', 10)],\n",
       " 'Historical_Movies': [('12 Years a Slave', 'His1', 'Historical', 2013, 'His1@movie.com', 21),\n",
       "  ('Hidden Figures', 'His2', 'Historical', 2016, 'His2@movie.com', 24),\n",
       "  ('Saving Private Ryan', 'His3', 'Historical', 1998, 'His3@movie.com', 14),\n",
       "  ('Titanic', 'His4', 'Historical', 1997, 'His4@movie.com', 15),\n",
       "  ('Gladiator', 'His5', 'Historical', 2000, 'His5@movie.com', 5)],\n",
       " 'Romance_Movies': [('The Notebook', 'Rom1', 'Romance', 2004, 'Rom1@movie.com', 13),\n",
       "  ('A Walk to Remember', 'Rom2', 'Romance', 2002, 'Rom2@movie.com', 12),\n",
       "  ('Pride and Prejudice', 'Rom3', 'Romance', 2005, 'Rom3@movie.com', 18),\n",
       "  ('Pretty Woman', 'Rom4 ', 'Romance', 1990, 'Rom4@movie.com', 19),\n",
       "  ('The Fault in Our Stars', 'Rom5', 'Romance', 2014, 'Rom5@movie.com', 16)]}"
      ]
     },
     "execution_count": 15,
     "metadata": {},
     "output_type": "execute_result"
    }
   ],
   "source": [
    "def Genre_menu():\n",
    "        movies_info = {}\n",
    "        mubee = []\n",
    "        mv = \"\"\n",
    "        for i in genre:\n",
    "            key_name = f\"{i}_Movies\"\n",
    "            movies_info[key_name] = %sql select * from MOVIE_LIST where Genre = :i;\n",
    "#             entry = list(movies_info.values())\n",
    "#             for j in range(len(movies_info)):\n",
    "#                 mv = f\"{entry[i][j][0]}, {entry[i][j][3]} - ${entry[i][j][5]}\"\n",
    "#                 mubee.append(mv)\n",
    "        return movies_info\n",
    "    \n",
    "Genre_menu()"
   ]
  },
  {
   "cell_type": "code",
   "execution_count": 16,
   "id": "07f19908",
   "metadata": {},
   "outputs": [
    {
     "name": "stdout",
     "output_type": "stream",
     "text": [
      " * sqlite:///MoviePurchase.db\n",
      "Done.\n",
      " * sqlite:///MoviePurchase.db\n",
      "Done.\n",
      " * sqlite:///MoviePurchase.db\n",
      "Done.\n",
      " * sqlite:///MoviePurchase.db\n",
      "Done.\n",
      " * sqlite:///MoviePurchase.db\n",
      "Done.\n"
     ]
    },
    {
     "data": {
      "text/plain": [
       "'Mission: Impossible - Fallout, 2018 --- $15'"
      ]
     },
     "execution_count": 16,
     "metadata": {},
     "output_type": "execute_result"
    }
   ],
   "source": [
    "m_list = Genre_menu()\n",
    "entry = list(m_list.values())\n",
    "f\"{entry[0][1][0]}, {entry[0][1][3]} --- ${entry[0][1][5]}\""
   ]
  },
  {
   "cell_type": "code",
   "execution_count": 35,
   "id": "887b4f4b",
   "metadata": {},
   "outputs": [],
   "source": [
    "# def Movie_Purchase():\n",
    "        \n",
    "#         \"\"\"Displaying the list of movies available by category, making a selection, \n",
    "#         buying a movie and getting acces to the movie\"\"\"\n",
    "# #         Type code here. Might need multiple functions. You can worl backwards to see ehat it will look like.\n",
    "# #         return(\"You are now watching: \", Movie_Name)\n",
    "#         Action_Movies = %sql select * from MOVIE_LIST where Genre = 'Action';\n",
    "#         Adventure_Movies = %sql select * from MOVIE_LIST where Genre = 'Adventure';\n",
    "#         Fantasy_Movies = %sql select * from MOVIE_LIST where Genre = 'Fantasy';\n",
    "#         Historical_Movies = %sql select * from MOVIE_LIST where Genre = 'Historical';\n",
    "#         Romance_Movies = %sql select * from MOVIE_LIST where Genre = 'Romance';\n",
    "        \n",
    "#         movies_info = [Action_Movies, Adventure_Movies, Fantasy_Movies, Historical_Movies, Romance_Movies]\n",
    "        \n",
    "#         for i in movies_info:   \n",
    "        \n",
    "            \n",
    "#         return movies_info \n",
    "    \n",
    "# Category_menu()"
   ]
  },
  {
   "cell_type": "code",
   "execution_count": 19,
   "id": "88fcf083",
   "metadata": {},
   "outputs": [],
   "source": [
    "def Category(n):\n",
    "    cat_id = genre[n]\n",
    "    return cat_id"
   ]
  },
  {
   "cell_type": "code",
   "execution_count": null,
   "id": "2d81a3d6",
   "metadata": {},
   "outputs": [],
   "source": [
    "if __name__ == '__main__':\n",
    "    \n",
    "    width, height = 960, 540\n",
    "    movie = tk.Tk()\n",
    "    movie.title('Tife\\'s Movie Store')\n",
    "    movie.geometry = ('%sx%s' % (width, height))\n",
    "    movie.configure(background = 'lavender')\n",
    "    \n",
    "    hp = 'Hello! Welcome to Tife\\'s Movie Store.'\n",
    "    hp_label = tk.Label(movie, \n",
    "                        text = hp,\n",
    "                        bg = \"white\",      \n",
    "                        height = 2,                          \n",
    "                        bd = 5,                  \n",
    "                        font = (\"Times New Roman\", 20, \"bold\", \"italic\"), \n",
    "                        cursor = \"hand2\",   \n",
    "                        fg = \"black\",             \n",
    "                        padx = 15,               \n",
    "                        pady = 15,                \n",
    "                        justify = tk.CENTER,    \n",
    "                        relief = tk.RAISED,                \n",
    "                        wraplength = 920         \n",
    "                        )\n",
    "    hp_label.pack(fill = X)\n",
    "    \n",
    "    hp2 = 'What kind of movie would you like to purchase?'\n",
    "    hp2_label = tk.Label(movie, \n",
    "                        text = hp2,\n",
    "                        bg = \"black\",      \n",
    "                        height = 1,                          \n",
    "                        bd = 3,                  \n",
    "                        font = (\"Times New Roman\", 15, \"bold\", \"italic\"), \n",
    "                        cursor = \"hand2\",   \n",
    "                        fg = \"white\",             \n",
    "                        padx = 15,               \n",
    "                        pady = 15,                \n",
    "                        justify = tk.CENTER,    \n",
    "                        relief = tk.RAISED,                \n",
    "                        wraplength = 920         \n",
    "                        )\n",
    "    hp2_label.pack(fill = X)\n",
    "    \n",
    "    def disp_movie():\n",
    "        m_label = Label(movie, text = clicked.get()).pack()\n",
    "        \n",
    "    options0 = [f\"{entry[0][0][0]}, {entry[0][0][3]} --- ${entry[0][0][5]}\",\n",
    "               f\"{entry[0][1][0]}, {entry[0][1][3]} --- ${entry[0][1][5]}\",\n",
    "               f\"{entry[0][2][0]}, {entry[0][2][3]} --- ${entry[0][2][5]}\",\n",
    "               f\"{entry[0][3][0]}, {entry[0][3][3]} --- ${entry[0][3][5]}\",\n",
    "               f\"{entry[0][4][0]}, {entry[0][4][3]} --- ${entry[0][4][5]}\"]\n",
    "    \n",
    "    options1 = [f\"{entry[1][0][0]}, {entry[1][0][3]} --- ${entry[1][0][5]}\",\n",
    "               f\"{entry[1][1][0]}, {entry[1][1][3]} --- ${entry[1][1][5]}\",\n",
    "               f\"{entry[1][2][0]}, {entry[1][2][3]} --- ${entry[1][2][5]}\",\n",
    "               f\"{entry[1][3][0]}, {entry[1][3][3]} --- ${entry[1][3][5]}\",\n",
    "               f\"{entry[1][4][0]}, {entry[1][4][3]} --- ${entry[1][4][5]}\"]\n",
    "    \n",
    "    options2 = [f\"{entry[2][0][0]}, {entry[2][0][3]} --- ${entry[2][0][5]}\",\n",
    "               f\"{entry[2][1][0]}, {entry[2][1][3]} --- ${entry[2][1][5]}\",\n",
    "               f\"{entry[2][2][0]}, {entry[2][2][3]} --- ${entry[2][2][5]}\",\n",
    "               f\"{entry[2][3][0]}, {entry[2][3][3]} --- ${entry[2][3][5]}\",\n",
    "               f\"{entry[2][4][0]}, {entry[2][4][3]} --- ${entry[2][4][5]}\"]\n",
    "    \n",
    "    options3 = [f\"{entry[3][0][0]}, {entry[3][0][3]} --- ${entry[3][0][5]}\",\n",
    "               f\"{entry[3][1][0]}, {entry[3][1][3]} --- ${entry[3][1][5]}\",\n",
    "               f\"{entry[3][2][0]}, {entry[3][2][3]} --- ${entry[3][2][5]}\",\n",
    "               f\"{entry[3][3][0]}, {entry[3][3][3]} --- ${entry[3][3][5]}\",\n",
    "               f\"{entry[3][4][0]}, {entry[3][4][3]} --- ${entry[3][4][5]}\"]\n",
    "    \n",
    "    options4 = [f\"{entry[4][0][0]}, {entry[4][0][3]} --- ${entry[4][0][5]}\",\n",
    "               f\"{entry[4][1][0]}, {entry[4][1][3]} --- ${entry[4][1][5]}\",\n",
    "               f\"{entry[4][2][0]}, {entry[4][2][3]} --- ${entry[4][2][5]}\",\n",
    "               f\"{entry[4][3][0]}, {entry[4][3][3]} --- ${entry[4][3][5]}\",\n",
    "               f\"{entry[4][4][0]}, {entry[4][4][3]} --- ${entry[4][4][5]}\"]\n",
    "        \n",
    "    clicked = StringVar()\n",
    "#     clicked.set()\n",
    "    \n",
    "    options = [options0, options1, options1, options3, options4]\n",
    "    \n",
    "    drop0, drop1, drop2, drop3, drop4 = \"\", \"\", \"\", \"\", \"\"\n",
    "    drop = [drop0, drop1, drop2, drop3, drop4]\n",
    "    \n",
    "    for i in range(len(drop)):\n",
    "        drop[i] = OptionMenu(movie, clicked, *options[i])\n",
    "        drop[i].pack()\n",
    "    \n",
    "    \n",
    "    cat_button1, cat_button2, cat_button3, cat_button4, cat_button5 = \"\", \"\", \"\", \"\", \"\"\n",
    "    cat_buttons = [cat_button1, cat_button2, cat_button3, cat_button4, cat_button5]\n",
    "    for i in range(len(genre)):\n",
    "        cat_buttons[i] = tk.Button(movie, \n",
    "                           text = Category(i),\n",
    "                           command = disp_movie(),\n",
    "                           bg = \"white\",      \n",
    "                           height = 1,                          \n",
    "                           bd = 2,                  \n",
    "                           font = (\"Times New Roman\", 10, \"bold\", \"italic\"), \n",
    "                           cursor = \"hand2\",   \n",
    "                           fg = \"black\",             \n",
    "                           padx = 120,               \n",
    "                           pady = 15,                \n",
    "                           justify = tk.CENTER,    \n",
    "                           relief = tk.RAISED,                \n",
    "                           wraplength = 60         \n",
    "                           )\n",
    "        cat_buttons[i].pack(fill = \"both\", expand = True)\n",
    "        \n",
    "    movie.mainloop()"
   ]
  },
  {
   "cell_type": "code",
   "execution_count": 21,
   "id": "24388335",
   "metadata": {},
   "outputs": [
    {
     "ename": "NameError",
     "evalue": "name 'clicked1' is not defined",
     "output_type": "error",
     "traceback": [
      "\u001b[1;31m---------------------------------------------------------------------------\u001b[0m",
      "\u001b[1;31mNameError\u001b[0m                                 Traceback (most recent call last)",
      "Cell \u001b[1;32mIn[21], line 77\u001b[0m\n\u001b[0;32m     61\u001b[0m drop0\u001b[38;5;241m.\u001b[39mconfig(bg \u001b[38;5;241m=\u001b[39m \u001b[38;5;124m\"\u001b[39m\u001b[38;5;124mwhite\u001b[39m\u001b[38;5;124m\"\u001b[39m,      \n\u001b[0;32m     62\u001b[0m              height \u001b[38;5;241m=\u001b[39m \u001b[38;5;241m1\u001b[39m,                          \n\u001b[0;32m     63\u001b[0m              bd \u001b[38;5;241m=\u001b[39m \u001b[38;5;241m2\u001b[39m,                  \n\u001b[1;32m   (...)\u001b[0m\n\u001b[0;32m     71\u001b[0m              wraplength \u001b[38;5;241m=\u001b[39m \u001b[38;5;241m100\u001b[39m        \n\u001b[0;32m     72\u001b[0m              )\n\u001b[0;32m     73\u001b[0m drop0\u001b[38;5;241m.\u001b[39mpack(fill \u001b[38;5;241m=\u001b[39m \u001b[38;5;124m\"\u001b[39m\u001b[38;5;124mboth\u001b[39m\u001b[38;5;124m\"\u001b[39m, expand \u001b[38;5;241m=\u001b[39m \u001b[38;5;28;01mTrue\u001b[39;00m)\n\u001b[0;32m     75\u001b[0m buy_buttons0 \u001b[38;5;241m=\u001b[39m tk\u001b[38;5;241m.\u001b[39mButton(movie, \n\u001b[0;32m     76\u001b[0m                            text \u001b[38;5;241m=\u001b[39m \u001b[38;5;124m\"\u001b[39m\u001b[38;5;124mBuy Movie\u001b[39m\u001b[38;5;124m\"\u001b[39m,\n\u001b[1;32m---> 77\u001b[0m                            command \u001b[38;5;241m=\u001b[39m movie_purchase(\u001b[38;5;241m0\u001b[39m),\n\u001b[0;32m     78\u001b[0m                            bg \u001b[38;5;241m=\u001b[39m \u001b[38;5;124m\"\u001b[39m\u001b[38;5;124mwhite\u001b[39m\u001b[38;5;124m\"\u001b[39m,      \n\u001b[0;32m     79\u001b[0m                            height \u001b[38;5;241m=\u001b[39m \u001b[38;5;241m1\u001b[39m,                          \n\u001b[0;32m     80\u001b[0m                            bd \u001b[38;5;241m=\u001b[39m \u001b[38;5;241m2\u001b[39m,                  \n\u001b[0;32m     81\u001b[0m                            font \u001b[38;5;241m=\u001b[39m (\u001b[38;5;124m\"\u001b[39m\u001b[38;5;124mTimes New Roman\u001b[39m\u001b[38;5;124m\"\u001b[39m, \u001b[38;5;241m10\u001b[39m, \u001b[38;5;124m\"\u001b[39m\u001b[38;5;124mbold\u001b[39m\u001b[38;5;124m\"\u001b[39m, \u001b[38;5;124m\"\u001b[39m\u001b[38;5;124mitalic\u001b[39m\u001b[38;5;124m\"\u001b[39m), \n\u001b[0;32m     82\u001b[0m                            cursor \u001b[38;5;241m=\u001b[39m \u001b[38;5;124m\"\u001b[39m\u001b[38;5;124mhand2\u001b[39m\u001b[38;5;124m\"\u001b[39m,   \n\u001b[0;32m     83\u001b[0m                            fg \u001b[38;5;241m=\u001b[39m \u001b[38;5;124m\"\u001b[39m\u001b[38;5;124mblack\u001b[39m\u001b[38;5;124m\"\u001b[39m,             \n\u001b[0;32m     84\u001b[0m                            padx \u001b[38;5;241m=\u001b[39m \u001b[38;5;241m120\u001b[39m,               \n\u001b[0;32m     85\u001b[0m                            pady \u001b[38;5;241m=\u001b[39m \u001b[38;5;241m15\u001b[39m,                \n\u001b[0;32m     86\u001b[0m                            justify \u001b[38;5;241m=\u001b[39m tk\u001b[38;5;241m.\u001b[39mCENTER,    \n\u001b[0;32m     87\u001b[0m                            relief \u001b[38;5;241m=\u001b[39m tk\u001b[38;5;241m.\u001b[39mRAISED,                \n\u001b[0;32m     88\u001b[0m                            wraplength \u001b[38;5;241m=\u001b[39m \u001b[38;5;241m100\u001b[39m         \n\u001b[0;32m     89\u001b[0m                            )\n\u001b[0;32m     90\u001b[0m buy_buttons0\u001b[38;5;241m.\u001b[39mpack()\n\u001b[0;32m     92\u001b[0m options1 \u001b[38;5;241m=\u001b[39m [\u001b[38;5;124mf\u001b[39m\u001b[38;5;124m\"\u001b[39m\u001b[38;5;132;01m{\u001b[39;00mentry[\u001b[38;5;241m1\u001b[39m][\u001b[38;5;241m0\u001b[39m][\u001b[38;5;241m0\u001b[39m]\u001b[38;5;132;01m}\u001b[39;00m\u001b[38;5;124m, \u001b[39m\u001b[38;5;132;01m{\u001b[39;00mentry[\u001b[38;5;241m1\u001b[39m][\u001b[38;5;241m0\u001b[39m][\u001b[38;5;241m3\u001b[39m]\u001b[38;5;132;01m}\u001b[39;00m\u001b[38;5;124m --- $\u001b[39m\u001b[38;5;132;01m{\u001b[39;00mentry[\u001b[38;5;241m1\u001b[39m][\u001b[38;5;241m0\u001b[39m][\u001b[38;5;241m5\u001b[39m]\u001b[38;5;132;01m}\u001b[39;00m\u001b[38;5;124m\"\u001b[39m,\n\u001b[0;32m     93\u001b[0m            \u001b[38;5;124mf\u001b[39m\u001b[38;5;124m\"\u001b[39m\u001b[38;5;132;01m{\u001b[39;00mentry[\u001b[38;5;241m1\u001b[39m][\u001b[38;5;241m1\u001b[39m][\u001b[38;5;241m0\u001b[39m]\u001b[38;5;132;01m}\u001b[39;00m\u001b[38;5;124m, \u001b[39m\u001b[38;5;132;01m{\u001b[39;00mentry[\u001b[38;5;241m1\u001b[39m][\u001b[38;5;241m1\u001b[39m][\u001b[38;5;241m3\u001b[39m]\u001b[38;5;132;01m}\u001b[39;00m\u001b[38;5;124m --- $\u001b[39m\u001b[38;5;132;01m{\u001b[39;00mentry[\u001b[38;5;241m1\u001b[39m][\u001b[38;5;241m1\u001b[39m][\u001b[38;5;241m5\u001b[39m]\u001b[38;5;132;01m}\u001b[39;00m\u001b[38;5;124m\"\u001b[39m,\n\u001b[0;32m     94\u001b[0m            \u001b[38;5;124mf\u001b[39m\u001b[38;5;124m\"\u001b[39m\u001b[38;5;132;01m{\u001b[39;00mentry[\u001b[38;5;241m1\u001b[39m][\u001b[38;5;241m2\u001b[39m][\u001b[38;5;241m0\u001b[39m]\u001b[38;5;132;01m}\u001b[39;00m\u001b[38;5;124m, \u001b[39m\u001b[38;5;132;01m{\u001b[39;00mentry[\u001b[38;5;241m1\u001b[39m][\u001b[38;5;241m2\u001b[39m][\u001b[38;5;241m3\u001b[39m]\u001b[38;5;132;01m}\u001b[39;00m\u001b[38;5;124m --- $\u001b[39m\u001b[38;5;132;01m{\u001b[39;00mentry[\u001b[38;5;241m1\u001b[39m][\u001b[38;5;241m2\u001b[39m][\u001b[38;5;241m5\u001b[39m]\u001b[38;5;132;01m}\u001b[39;00m\u001b[38;5;124m\"\u001b[39m,\n\u001b[0;32m     95\u001b[0m            \u001b[38;5;124mf\u001b[39m\u001b[38;5;124m\"\u001b[39m\u001b[38;5;132;01m{\u001b[39;00mentry[\u001b[38;5;241m1\u001b[39m][\u001b[38;5;241m3\u001b[39m][\u001b[38;5;241m0\u001b[39m]\u001b[38;5;132;01m}\u001b[39;00m\u001b[38;5;124m, \u001b[39m\u001b[38;5;132;01m{\u001b[39;00mentry[\u001b[38;5;241m1\u001b[39m][\u001b[38;5;241m3\u001b[39m][\u001b[38;5;241m3\u001b[39m]\u001b[38;5;132;01m}\u001b[39;00m\u001b[38;5;124m --- $\u001b[39m\u001b[38;5;132;01m{\u001b[39;00mentry[\u001b[38;5;241m1\u001b[39m][\u001b[38;5;241m3\u001b[39m][\u001b[38;5;241m5\u001b[39m]\u001b[38;5;132;01m}\u001b[39;00m\u001b[38;5;124m\"\u001b[39m,\n\u001b[0;32m     96\u001b[0m            \u001b[38;5;124mf\u001b[39m\u001b[38;5;124m\"\u001b[39m\u001b[38;5;132;01m{\u001b[39;00mentry[\u001b[38;5;241m1\u001b[39m][\u001b[38;5;241m4\u001b[39m][\u001b[38;5;241m0\u001b[39m]\u001b[38;5;132;01m}\u001b[39;00m\u001b[38;5;124m, \u001b[39m\u001b[38;5;132;01m{\u001b[39;00mentry[\u001b[38;5;241m1\u001b[39m][\u001b[38;5;241m4\u001b[39m][\u001b[38;5;241m3\u001b[39m]\u001b[38;5;132;01m}\u001b[39;00m\u001b[38;5;124m --- $\u001b[39m\u001b[38;5;132;01m{\u001b[39;00mentry[\u001b[38;5;241m1\u001b[39m][\u001b[38;5;241m4\u001b[39m][\u001b[38;5;241m5\u001b[39m]\u001b[38;5;132;01m}\u001b[39;00m\u001b[38;5;124m\"\u001b[39m]\n",
      "Cell \u001b[1;32mIn[21], line 44\u001b[0m, in \u001b[0;36mmovie_purchase\u001b[1;34m(n)\u001b[0m\n\u001b[0;32m     43\u001b[0m     \u001b[38;5;28;01mdef\u001b[39;00m \u001b[38;5;21mmovie_purchase\u001b[39m(n):\n\u001b[1;32m---> 44\u001b[0m         clicked \u001b[38;5;241m=\u001b[39m [clicked0, clicked1, clicked2, clicked3, clicked4]\n\u001b[0;32m     45\u001b[0m \u001b[38;5;66;03m#         options = [options0, options1, options2, options3, options4]\u001b[39;00m\n\u001b[0;32m     46\u001b[0m         \u001b[38;5;28;01mfor\u001b[39;00m n \u001b[38;5;129;01min\u001b[39;00m \u001b[38;5;28mrange\u001b[39m(\u001b[38;5;28mlen\u001b[39m(genre)):\n",
      "\u001b[1;31mNameError\u001b[0m: name 'clicked1' is not defined"
     ]
    }
   ],
   "source": [
    "if __name__ == '__main__':\n",
    "    \n",
    "    width, height = 960, 540\n",
    "    movie = tk.Tk()\n",
    "    movie.title('Tife\\'s Movie Store')\n",
    "    movie.geometry = ('%sx%s' % (width, height))\n",
    "    movie.configure(background = 'lavender')\n",
    "    \n",
    "    hp = 'Hello! Welcome to Tife\\'s Movie Store.'\n",
    "    hp_label = tk.Label(movie, \n",
    "                        text = hp,\n",
    "                        bg = \"white\",      \n",
    "                        height = 2,                          \n",
    "                        bd = 5,                  \n",
    "                        font = (\"Times New Roman\", 20, \"bold\", \"italic\"), \n",
    "                        cursor = \"hand2\",   \n",
    "                        fg = \"black\",             \n",
    "                        padx = 15,               \n",
    "                        pady = 15,                \n",
    "                        justify = tk.CENTER,    \n",
    "                        relief = tk.RAISED,                \n",
    "                        wraplength = 920         \n",
    "                        )\n",
    "    hp_label.pack(fill = X)\n",
    "    \n",
    "    hp2 = 'What kind of movie would you like to purchase?'\n",
    "    hp2_label = tk.Label(movie, \n",
    "                        text = hp2,\n",
    "                        bg = \"black\",      \n",
    "                        height = 1,                          \n",
    "                        bd = 3,                  \n",
    "                        font = (\"Times New Roman\", 15, \"bold\", \"italic\"), \n",
    "                        cursor = \"hand2\",   \n",
    "                        fg = \"white\",             \n",
    "                        padx = 15,               \n",
    "                        pady = 15,                \n",
    "                        justify = tk.CENTER,    \n",
    "                        relief = tk.RAISED,                \n",
    "                        wraplength = 920         \n",
    "                        )\n",
    "    hp2_label.pack(fill = X)\n",
    "    \n",
    "    def movie_purchase(n):\n",
    "        clicked = [clicked0, clicked1, clicked2, clicked3, clicked4]\n",
    "#         options = [options0, options1, options2, options3, options4]\n",
    "        for n in range(len(genre)):\n",
    "            m_label = Label(movie, text = clicked[n].get()).pack()\n",
    "#             message = f\"Thank you for your purchase. You are now watching {options[n][clicked[n]]}\"\n",
    "#         return message\n",
    "        \n",
    "    options0 = [f\"{entry[0][0][0]}, {entry[0][0][3]} --- ${entry[0][0][5]}\",\n",
    "               f\"{entry[0][1][0]}, {entry[0][1][3]} --- ${entry[0][1][5]}\",\n",
    "               f\"{entry[0][2][0]}, {entry[0][2][3]} --- ${entry[0][2][5]}\",\n",
    "               f\"{entry[0][3][0]}, {entry[0][3][3]} --- ${entry[0][3][5]}\",\n",
    "               f\"{entry[0][4][0]}, {entry[0][4][3]} --- ${entry[0][4][5]}\"]\n",
    "        \n",
    "    clicked0 = tk.StringVar(movie)\n",
    "    clicked0.set(Category(0))\n",
    "    \n",
    "    drop0 = OptionMenu(movie, clicked0, *options0)\n",
    "    drop0.config(bg = \"white\",      \n",
    "                 height = 1,                          \n",
    "                 bd = 2,                  \n",
    "                 font = (\"Times New Roman\", 15, \"bold\", \"italic\"), \n",
    "                 cursor = \"hand2\",   \n",
    "                 fg = \"black\",             \n",
    "                 padx = 120,               \n",
    "                 pady = 15,                \n",
    "                 justify = tk.CENTER,    \n",
    "                 relief = tk.SOLID,                \n",
    "                 wraplength = 100        \n",
    "                 )\n",
    "    drop0.pack(fill = \"both\", expand = True)\n",
    "    \n",
    "    buy_buttons0 = tk.Button(movie, \n",
    "                               text = \"Buy Movie\",\n",
    "                               command = movie_purchase(0),\n",
    "                               bg = \"white\",      \n",
    "                               height = 1,                          \n",
    "                               bd = 2,                  \n",
    "                               font = (\"Times New Roman\", 10, \"bold\", \"italic\"), \n",
    "                               cursor = \"hand2\",   \n",
    "                               fg = \"black\",             \n",
    "                               padx = 120,               \n",
    "                               pady = 15,                \n",
    "                               justify = tk.CENTER,    \n",
    "                               relief = tk.RAISED,                \n",
    "                               wraplength = 100         \n",
    "                               )\n",
    "    buy_buttons0.pack()\n",
    "    \n",
    "    options1 = [f\"{entry[1][0][0]}, {entry[1][0][3]} --- ${entry[1][0][5]}\",\n",
    "               f\"{entry[1][1][0]}, {entry[1][1][3]} --- ${entry[1][1][5]}\",\n",
    "               f\"{entry[1][2][0]}, {entry[1][2][3]} --- ${entry[1][2][5]}\",\n",
    "               f\"{entry[1][3][0]}, {entry[1][3][3]} --- ${entry[1][3][5]}\",\n",
    "               f\"{entry[1][4][0]}, {entry[1][4][3]} --- ${entry[1][4][5]}\"]\n",
    "    \n",
    "    clicked1 = tk.StringVar(movie)\n",
    "    clicked1.set(Category(1))\n",
    "    \n",
    "    drop1 = OptionMenu(movie, clicked1, *options1)\n",
    "    drop1.config(bg = \"white\",      \n",
    "                 height = 1,                          \n",
    "                 bd = 2,                  \n",
    "                 font = (\"Times New Roman\", 15, \"bold\", \"italic\"), \n",
    "                 cursor = \"hand2\",   \n",
    "                 fg = \"black\",             \n",
    "                 padx = 120,               \n",
    "                 pady = 15,                \n",
    "                 justify = tk.CENTER,    \n",
    "                 relief = tk.RAISED,                \n",
    "                 wraplength = 100         \n",
    "                 )\n",
    "    drop1.pack(fill = \"both\", expand = True)\n",
    "    \n",
    "    buy_buttons1 = tk.Button(movie, \n",
    "                               text = \"Buy Movie\",\n",
    "                               command = movie_purchase(1),\n",
    "                               bg = \"white\",      \n",
    "                               height = 1,                          \n",
    "                               bd = 2,                  \n",
    "                               font = (\"Times New Roman\", 10, \"bold\", \"italic\"), \n",
    "                               cursor = \"hand2\",   \n",
    "                               fg = \"black\",             \n",
    "                               padx = 120,               \n",
    "                               pady = 15,                \n",
    "                               justify = tk.CENTER,    \n",
    "                               relief = tk.RAISED,                \n",
    "                               wraplength = 100         \n",
    "                               )\n",
    "    buy_buttons1.pack()\n",
    "    \n",
    "    options2 = [f\"{entry[2][0][0]}, {entry[2][0][3]} --- ${entry[2][0][5]}\",\n",
    "               f\"{entry[2][1][0]}, {entry[2][1][3]} --- ${entry[2][1][5]}\",\n",
    "               f\"{entry[2][2][0]}, {entry[2][2][3]} --- ${entry[2][2][5]}\",\n",
    "               f\"{entry[2][3][0]}, {entry[2][3][3]} --- ${entry[2][3][5]}\",\n",
    "               f\"{entry[2][4][0]}, {entry[2][4][3]} --- ${entry[2][4][5]}\"]\n",
    "    \n",
    "    clicked2 = tk.StringVar(movie)\n",
    "    clicked2.set(Category(2))\n",
    "    \n",
    "    drop2 = OptionMenu(movie, clicked2, *options2)\n",
    "    drop2.config(bg = \"white\",      \n",
    "                 height = 1,                          \n",
    "                 bd = 2,                  \n",
    "                 font = (\"Times New Roman\", 15, \"bold\", \"italic\"), \n",
    "                 cursor = \"hand2\",   \n",
    "                 fg = \"black\",             \n",
    "                 padx = 120,               \n",
    "                 pady = 15,                \n",
    "                 justify = tk.CENTER,    \n",
    "                 relief = tk.RAISED,                \n",
    "                 wraplength = 100          \n",
    "                 )\n",
    "    drop2.pack(fill = \"both\", expand = True)\n",
    "    \n",
    "    buy_buttons2 = tk.Button(movie, \n",
    "                               text = \"Buy Movie\",\n",
    "                               command = movie_purchase(2),\n",
    "                               bg = \"white\",      \n",
    "                               height = 1,                          \n",
    "                               bd = 2,                  \n",
    "                               font = (\"Times New Roman\", 10, \"bold\", \"italic\"), \n",
    "                               cursor = \"hand2\",   \n",
    "                               fg = \"black\",             \n",
    "                               padx = 120,               \n",
    "                               pady = 15,                \n",
    "                               justify = tk.CENTER,    \n",
    "                               relief = tk.RAISED,                \n",
    "                               wraplength = 100         \n",
    "                               )\n",
    "    buy_buttons2.pack()\n",
    "    \n",
    "    options3 = [f\"{entry[3][0][0]}, {entry[3][0][3]} --- ${entry[3][0][5]}\",\n",
    "               f\"{entry[3][1][0]}, {entry[3][1][3]} --- ${entry[3][1][5]}\",\n",
    "               f\"{entry[3][2][0]}, {entry[3][2][3]} --- ${entry[3][2][5]}\",\n",
    "               f\"{entry[3][3][0]}, {entry[3][3][3]} --- ${entry[3][3][5]}\",\n",
    "               f\"{entry[3][4][0]}, {entry[3][4][3]} --- ${entry[3][4][5]}\"]\n",
    "    \n",
    "    clicked3 = tk.StringVar(movie)\n",
    "    clicked3.set(Category(3))\n",
    "    \n",
    "    drop3 = OptionMenu(movie, clicked3, *options3)\n",
    "    drop3.config(bg = \"white\",      \n",
    "                 height = 1,                          \n",
    "                 bd = 2,                  \n",
    "                 font = (\"Times New Roman\", 15, \"bold\", \"italic\"), \n",
    "                 cursor = \"hand2\",   \n",
    "                 fg = \"black\",             \n",
    "                 padx = 120,               \n",
    "                 pady = 15,                \n",
    "                 justify = tk.CENTER,    \n",
    "                 relief = tk.RAISED,                \n",
    "                 wraplength = 100          \n",
    "                 )\n",
    "    drop3.pack(fill = \"both\", expand = True)\n",
    "    \n",
    "    buy_buttons3 = tk.Button(movie, \n",
    "                               text = \"Buy Movie\",\n",
    "                               command = movie_purchase(3),\n",
    "                               bg = \"white\",      \n",
    "                               height = 1,                          \n",
    "                               bd = 2,                  \n",
    "                               font = (\"Times New Roman\", 10, \"bold\", \"italic\"), \n",
    "                               cursor = \"hand2\",   \n",
    "                               fg = \"black\",             \n",
    "                               padx = 120,               \n",
    "                               pady = 15,                \n",
    "                               justify = tk.CENTER,    \n",
    "                               relief = tk.RAISED,                \n",
    "                               wraplength = 100         \n",
    "                               )\n",
    "    buy_buttons3.pack()\n",
    "    \n",
    "    options4 = [f\"{entry[4][0][0]}, {entry[4][0][3]} --- ${entry[4][0][5]}\",\n",
    "               f\"{entry[4][1][0]}, {entry[4][1][3]} --- ${entry[4][1][5]}\",\n",
    "               f\"{entry[4][2][0]}, {entry[4][2][3]} --- ${entry[4][2][5]}\",\n",
    "               f\"{entry[4][3][0]}, {entry[4][3][3]} --- ${entry[4][3][5]}\",\n",
    "               f\"{entry[4][4][0]}, {entry[4][4][3]} --- ${entry[4][4][5]}\"]\n",
    "    \n",
    "    clicked4 = tk.StringVar(movie)\n",
    "    clicked4.set(Category(4))\n",
    "    \n",
    "    drop4 = OptionMenu(movie, clicked4, *options4)\n",
    "    drop4.config(bg = \"white\",      \n",
    "                 height = 1,                          \n",
    "                 bd = 2,                  \n",
    "                 font = (\"Times New Roman\", 15, \"bold\", \"italic\"), \n",
    "                 cursor = \"hand2\",   \n",
    "                 fg = \"black\",             \n",
    "                 padx = 120,               \n",
    "                 pady = 15,                \n",
    "                 justify = tk.CENTER,    \n",
    "                 relief = tk.RAISED,                \n",
    "                 wraplength = 100          \n",
    "                 )\n",
    "    drop4.pack(fill = \"both\", expand = True)\n",
    "    \n",
    "    buy_buttons4 = tk.Button(movie, \n",
    "                               text = \"Buy Movie\",\n",
    "                               command = movie_purchase(4),\n",
    "                               bg = \"white\",      \n",
    "                               height = 1,                          \n",
    "                               bd = 2,                  \n",
    "                               font = (\"Times New Roman\", 10, \"bold\", \"italic\"), \n",
    "                               cursor = \"hand2\",   \n",
    "                               fg = \"black\",             \n",
    "                               padx = 120,               \n",
    "                               pady = 15,                \n",
    "                               justify = tk.CENTER,    \n",
    "                               relief = tk.RAISED,                \n",
    "                               wraplength = 100         \n",
    "                               )\n",
    "    buy_buttons4.pack()\n",
    "        \n",
    "    movie.mainloop()"
   ]
  },
  {
   "cell_type": "code",
   "execution_count": null,
   "id": "9bb09a3d",
   "metadata": {},
   "outputs": [],
   "source": []
  },
  {
   "cell_type": "code",
   "execution_count": null,
   "id": "7b00cdfc",
   "metadata": {},
   "outputs": [],
   "source": []
  }
 ],
 "metadata": {
  "kernelspec": {
   "display_name": "Python 3 (ipykernel)",
   "language": "python",
   "name": "python3"
  },
  "language_info": {
   "codemirror_mode": {
    "name": "ipython",
    "version": 3
   },
   "file_extension": ".py",
   "mimetype": "text/x-python",
   "name": "python",
   "nbconvert_exporter": "python",
   "pygments_lexer": "ipython3",
   "version": "3.11.4"
  }
 },
 "nbformat": 4,
 "nbformat_minor": 5
}
