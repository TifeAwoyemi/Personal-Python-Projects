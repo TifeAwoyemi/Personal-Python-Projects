{
 "cells": [
  {
   "cell_type": "code",
   "execution_count": 1,
   "id": "f65423f2",
   "metadata": {},
   "outputs": [
    {
     "data": {
      "text/html": [
       "<div>\n",
       "<style scoped>\n",
       "    .dataframe tbody tr th:only-of-type {\n",
       "        vertical-align: middle;\n",
       "    }\n",
       "\n",
       "    .dataframe tbody tr th {\n",
       "        vertical-align: top;\n",
       "    }\n",
       "\n",
       "    .dataframe thead th {\n",
       "        text-align: right;\n",
       "    }\n",
       "</style>\n",
       "<table border=\"1\" class=\"dataframe\">\n",
       "  <thead>\n",
       "    <tr style=\"text-align: right;\">\n",
       "      <th></th>\n",
       "      <th>Movie_Name</th>\n",
       "      <th>ID</th>\n",
       "      <th>Genre</th>\n",
       "      <th>Release_Year</th>\n",
       "      <th>URL_Link</th>\n",
       "      <th>Price</th>\n",
       "    </tr>\n",
       "  </thead>\n",
       "  <tbody>\n",
       "    <tr>\n",
       "      <th>0</th>\n",
       "      <td>Top Gun: Maverick</td>\n",
       "      <td>Act1</td>\n",
       "      <td>Action</td>\n",
       "      <td>2022</td>\n",
       "      <td>Act1@movie.com</td>\n",
       "      <td>20</td>\n",
       "    </tr>\n",
       "    <tr>\n",
       "      <th>1</th>\n",
       "      <td>Mission: Impossible - Fallout</td>\n",
       "      <td>Act2</td>\n",
       "      <td>Action</td>\n",
       "      <td>2018</td>\n",
       "      <td>Act2@movie.com</td>\n",
       "      <td>15</td>\n",
       "    </tr>\n",
       "    <tr>\n",
       "      <th>2</th>\n",
       "      <td>The Terminator 2: Judgment Day</td>\n",
       "      <td>Act3</td>\n",
       "      <td>Action</td>\n",
       "      <td>1991</td>\n",
       "      <td>Act3@movie.com</td>\n",
       "      <td>25</td>\n",
       "    </tr>\n",
       "    <tr>\n",
       "      <th>3</th>\n",
       "      <td>The Dark Knight</td>\n",
       "      <td>Act4</td>\n",
       "      <td>Action</td>\n",
       "      <td>2008</td>\n",
       "      <td>Act4@movie.com</td>\n",
       "      <td>13</td>\n",
       "    </tr>\n",
       "    <tr>\n",
       "      <th>4</th>\n",
       "      <td>Inception</td>\n",
       "      <td>Act5</td>\n",
       "      <td>Action</td>\n",
       "      <td>2010</td>\n",
       "      <td>Act5@movie.com</td>\n",
       "      <td>15</td>\n",
       "    </tr>\n",
       "  </tbody>\n",
       "</table>\n",
       "</div>"
      ],
      "text/plain": [
       "                       Movie_Name    ID   Genre  Release_Year        URL_Link  \\\n",
       "0               Top Gun: Maverick  Act1  Action          2022  Act1@movie.com   \n",
       "1   Mission: Impossible - Fallout  Act2  Action          2018  Act2@movie.com   \n",
       "2  The Terminator 2: Judgment Day  Act3  Action          1991  Act3@movie.com   \n",
       "3                 The Dark Knight  Act4  Action          2008  Act4@movie.com   \n",
       "4                       Inception  Act5  Action          2010  Act5@movie.com   \n",
       "\n",
       "   Price  \n",
       "0     20  \n",
       "1     15  \n",
       "2     25  \n",
       "3     13  \n",
       "4     15  "
      ]
     },
     "execution_count": 1,
     "metadata": {},
     "output_type": "execute_result"
    }
   ],
   "source": [
    "import pandas as pd\n",
    "\n",
    "movie_list = pd.read_csv(\"Movie List.csv\")\n",
    "movie_list.head()"
   ]
  },
  {
   "cell_type": "code",
   "execution_count": 2,
   "id": "471eb577",
   "metadata": {},
   "outputs": [],
   "source": [
    "%load_ext sql\n",
    "import csv, sqlite3"
   ]
  },
  {
   "cell_type": "code",
   "execution_count": 3,
   "id": "b4c4f6ef",
   "metadata": {},
   "outputs": [],
   "source": [
    "con = sqlite3.connect(\"MoviePurchase.db\")\n",
    "cur = con.cursor()\n",
    "\n",
    "%sql sqlite:///MoviePurchase.db"
   ]
  },
  {
   "cell_type": "markdown",
   "id": "a9dd170a",
   "metadata": {},
   "source": [
    "### Manual Creation of Tables"
   ]
  },
  {
   "cell_type": "code",
   "execution_count": 4,
   "id": "53c29fd2",
   "metadata": {},
   "outputs": [
    {
     "name": "stdout",
     "output_type": "stream",
     "text": [
      " * sqlite:///MoviePurchase.db\n",
      "Done.\n"
     ]
    },
    {
     "data": {
      "text/plain": [
       "[]"
      ]
     },
     "execution_count": 4,
     "metadata": {},
     "output_type": "execute_result"
    }
   ],
   "source": [
    "%%sql\n",
    "DROP TABLE MOVIE_lIST;"
   ]
  },
  {
   "cell_type": "code",
   "execution_count": 5,
   "id": "b7923f81",
   "metadata": {},
   "outputs": [
    {
     "data": {
      "text/plain": [
       "25"
      ]
     },
     "execution_count": 5,
     "metadata": {},
     "output_type": "execute_result"
    }
   ],
   "source": [
    "## Importing from CSV file and converting CSV to SQL table\n",
    "\n",
    "movie_list.to_sql(\"MOVIE_LIST\", con, if_exists = 'replace', index = False, method = \"multi\")"
   ]
  },
  {
   "cell_type": "markdown",
   "id": "7dc31ea8",
   "metadata": {},
   "source": [
    "### Query table"
   ]
  },
  {
   "cell_type": "code",
   "execution_count": 6,
   "id": "b8111da2",
   "metadata": {},
   "outputs": [
    {
     "name": "stdout",
     "output_type": "stream",
     "text": [
      " * sqlite:///MoviePurchase.db\n",
      "Done.\n"
     ]
    },
    {
     "data": {
      "text/html": [
       "<table>\n",
       "    <thead>\n",
       "        <tr>\n",
       "            <th>Movie_Name</th>\n",
       "            <th>ID</th>\n",
       "            <th>Genre</th>\n",
       "            <th>Release_Year</th>\n",
       "            <th>URL_Link</th>\n",
       "            <th>Price</th>\n",
       "        </tr>\n",
       "    </thead>\n",
       "    <tbody>\n",
       "        <tr>\n",
       "            <td>Top Gun: Maverick</td>\n",
       "            <td>Act1</td>\n",
       "            <td>Action</td>\n",
       "            <td>2022</td>\n",
       "            <td>Act1@movie.com</td>\n",
       "            <td>20</td>\n",
       "        </tr>\n",
       "        <tr>\n",
       "            <td>Mission: Impossible - Fallout</td>\n",
       "            <td>Act2</td>\n",
       "            <td>Action</td>\n",
       "            <td>2018</td>\n",
       "            <td>Act2@movie.com</td>\n",
       "            <td>15</td>\n",
       "        </tr>\n",
       "        <tr>\n",
       "            <td>The Terminator 2: Judgment Day</td>\n",
       "            <td>Act3</td>\n",
       "            <td>Action</td>\n",
       "            <td>1991</td>\n",
       "            <td>Act3@movie.com</td>\n",
       "            <td>25</td>\n",
       "        </tr>\n",
       "        <tr>\n",
       "            <td>The Dark Knight</td>\n",
       "            <td>Act4</td>\n",
       "            <td>Action</td>\n",
       "            <td>2008</td>\n",
       "            <td>Act4@movie.com</td>\n",
       "            <td>13</td>\n",
       "        </tr>\n",
       "        <tr>\n",
       "            <td>Inception</td>\n",
       "            <td>Act5</td>\n",
       "            <td>Action</td>\n",
       "            <td>2010</td>\n",
       "            <td>Act5@movie.com</td>\n",
       "            <td>15</td>\n",
       "        </tr>\n",
       "    </tbody>\n",
       "</table>"
      ],
      "text/plain": [
       "[('Top Gun: Maverick', 'Act1', 'Action', 2022, 'Act1@movie.com', 20),\n",
       " ('Mission: Impossible - Fallout', 'Act2', 'Action', 2018, 'Act2@movie.com', 15),\n",
       " ('The Terminator 2: Judgment Day', 'Act3', 'Action', 1991, 'Act3@movie.com', 25),\n",
       " ('The Dark Knight', 'Act4', 'Action', 2008, 'Act4@movie.com', 13),\n",
       " ('Inception', 'Act5', 'Action', 2010, 'Act5@movie.com', 15)]"
      ]
     },
     "execution_count": 6,
     "metadata": {},
     "output_type": "execute_result"
    }
   ],
   "source": [
    "%%sql\n",
    "select * from MOVIE_LIST\n",
    "    limit 5;"
   ]
  },
  {
   "cell_type": "code",
   "execution_count": 24,
   "id": "7b00cdfc",
   "metadata": {},
   "outputs": [
    {
     "name": "stdout",
     "output_type": "stream",
     "text": [
      "Hello! May I know your name?\n",
      " Tife\n",
      "\n",
      "Hello! Tife Nice to meet you.\n",
      "\n",
      "Welcome to Tife's Movie Store!\n",
      "\n",
      " * sqlite:///MoviePurchase.db\n",
      "Done.\n",
      "These are the movies I have in stock right now:\n",
      " +----------------------------------------+------------+--------------+--------+\n",
      "|                 Movie                  |   Genre    | Release_Year | Price$ |\n",
      "+----------------------------------------+------------+--------------+--------+\n",
      "|           Top Gun: Maverick            |   Action   |     2022     |   20   |\n",
      "|     Mission: Impossible - Fallout      |   Action   |     2018     |   15   |\n",
      "|     The Terminator 2: Judgment Day     |   Action   |     1991     |   25   |\n",
      "|            The Dark Knight             |   Action   |     2008     |   13   |\n",
      "|               Inception                |   Action   |     2010     |   15   |\n",
      "|     Robin Hood: Prince of Thieves      | Adventure  |     1991     |   18   |\n",
      "|                Stardust                | Adventure  |     2007     |   9    |\n",
      "|          Alice in Wonderland           | Adventure  |     2010     |   10   |\n",
      "|            The Jungle Book             | Adventure  |     2016     |   18   |\n",
      "|     Jumanji: Welcome to the Jungle     | Adventure  |     2017     |   20   |\n",
      "|               Peter Pan                |  Fantasy   |     2003     |   17   |\n",
      "|                Big Fish                |  Fantasy   |     2003     |   21   |\n",
      "|               Pinocchio                |  Fantasy   |     2019     |   23   |\n",
      "| Harry Potter and the Sorcerer's Stone  |  Fantasy   |     2001     |   11   |\n",
      "|                The BFG                 |  Fantasy   |     2016     |   10   |\n",
      "|            12 Years a Slave            | Historical |     2013     |   21   |\n",
      "|             Hidden Figures             | Historical |     2016     |   24   |\n",
      "|          Saving Private Ryan           | Historical |     1998     |   14   |\n",
      "|                Titanic                 | Historical |     1997     |   15   |\n",
      "|               Gladiator                | Historical |     2000     |   5    |\n",
      "|              The Notebook              |  Romance   |     2004     |   13   |\n",
      "|           A Walk to Remember           |  Romance   |     2002     |   12   |\n",
      "|          Pride and Prejudice           |  Romance   |     2005     |   18   |\n",
      "|              Pretty Woman              |  Romance   |     1990     |   19   |\n",
      "|         The Fault in Our Stars         |  Romance   |     2014     |   16   |\n",
      "+----------------------------------------+------------+--------------+--------+\n",
      "Please enter the name of the movie you would like to buy today:\n",
      "the\n",
      "\n",
      "Here is your selection:\n",
      "                                     Movie      Genre  Release Year  Price$\n",
      "0          The Terminator 2: Judgment Day     Action          1991      25\n",
      "1                         The Dark Knight     Action          2008      13\n",
      "2                         The Jungle Book  Adventure          2016      18\n",
      "3          Jumanji: Welcome to the Jungle  Adventure          2017      20\n",
      "4  Harry Potter and the Sorcerer's Stone     Fantasy          2001      11\n",
      "5                                 The BFG    Fantasy          2016      10\n",
      "6                            The Notebook    Romance          2004      13\n",
      "7                  The Fault in Our Stars    Romance          2014      16\n",
      "Please choose one:\n",
      "bfg\n",
      "\n",
      "Awesome. You have chosen to buy the $10.00 Fantasy movie 'The BFG', made in 2016. Thank you!\n"
     ]
    }
   ],
   "source": [
    "name = str(input('Hello! May I know your name?\\n '))\n",
    "print(f'\\nHello! {name} Nice to meet you.\\n\\nWelcome to Tife\\'s Movie Store!\\n')\n",
    "Inventory = %sql select Movie_Name as Movie, Genre, Release_Year, Price as Price$ from MOVIE_LIST;\n",
    " \n",
    "print('These are the movies I have in stock right now:\\n', Inventory)\n",
    "\n",
    "entry = str(input('Please enter the name of the movie you would like to buy today:\\n'))  \n",
    "movie_query = f\"select Movie_Name as Movie, Genre, Release_Year, Price as Price$ from MOVIE_LIST \\\n",
    "                where Movie_Name like '%{entry}%';\"\n",
    "\n",
    "cur.execute(movie_query)\n",
    "match = cur.fetchall()\n",
    "\n",
    "df = []\n",
    "if match != []:\n",
    "    for row in match:\n",
    "        row = list(row)\n",
    "        df.append(row)\n",
    "        \n",
    "    df = pd.DataFrame(df, columns = ['Movie', 'Genre', 'Release Year', 'Price$'])\n",
    "    print('\\nHere is your selection:\\n', df)\n",
    "    \n",
    "    if len(df) == 1:\n",
    "        print(f\"\\nYou have chosen to buy the ${row[3]}.00 {row[1]} movie '{row[0]}', made in {row[2]}. Thank you!\")\n",
    "    else:   \n",
    "        entry = str(input('Please choose one:\\n'))  \n",
    "        movie_query = f\"select Movie_Name as Movie, Genre, Release_Year, Price as Price$ from MOVIE_LIST \\\n",
    "                where Movie_Name like '%{entry}%';\"\n",
    "        cur.execute(movie_query)\n",
    "        match = cur.fetchall()\n",
    "        for row in match:\n",
    "            print(f\"\\nAwesome. You have chosen to buy the ${row[3]}.00 {row[1]} movie '{row[0]}', made in {row[2]}. Thank you!\")\n",
    "\n",
    "else: \n",
    "    print(\"I'm sorry! I don't think we have this movie.\")\n",
    "    \n",
    "     "
   ]
  },
  {
   "cell_type": "code",
   "execution_count": null,
   "id": "874e2e75",
   "metadata": {},
   "outputs": [],
   "source": []
  }
 ],
 "metadata": {
  "kernelspec": {
   "display_name": "Python 3 (ipykernel)",
   "language": "python",
   "name": "python3"
  },
  "language_info": {
   "codemirror_mode": {
    "name": "ipython",
    "version": 3
   },
   "file_extension": ".py",
   "mimetype": "text/x-python",
   "name": "python",
   "nbconvert_exporter": "python",
   "pygments_lexer": "ipython3",
   "version": "3.11.4"
  }
 },
 "nbformat": 4,
 "nbformat_minor": 5
}
